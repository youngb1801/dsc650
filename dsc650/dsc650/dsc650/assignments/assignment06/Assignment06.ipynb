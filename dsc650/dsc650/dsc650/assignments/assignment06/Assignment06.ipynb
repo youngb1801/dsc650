{
 "cells": [
  {
   "cell_type": "markdown",
   "metadata": {},
   "source": [
    "## Assignment 6\n",
    "## Bret Young\n",
    "## 24 January 2021\n",
    "\n",
    "### Assignment 6.1\n",
    "\n",
    "Using section 5.1 in Deep Learning with Python as a guide (listing 5.3 in particular), create a ConvNet model that classifies images in the MNIST digit dataset. Save the model, predictions, metrics, and validation plots in the dsc650/assignments/assignment06/results directory. If you are using JupyterHub, you can include those plots in your Jupyter notebook."
   ]
  },
  {
   "cell_type": "code",
   "execution_count": 1,
   "metadata": {},
   "outputs": [],
   "source": [
    "# load required packages\n",
    "from keras import layers\n",
    "from keras import models\n",
    "from keras.datasets import mnist\n",
    "from keras.utils import to_categorical"
   ]
  },
  {
   "cell_type": "code",
   "execution_count": 4,
   "metadata": {},
   "outputs": [
    {
     "name": "stdout",
     "output_type": "stream",
     "text": [
      "Model: \"sequential_2\"\n",
      "_________________________________________________________________\n",
      "Layer (type)                 Output Shape              Param #   \n",
      "=================================================================\n",
      "conv2d_3 (Conv2D)            (None, 26, 26, 32)        320       \n",
      "_________________________________________________________________\n",
      "max_pooling2d_2 (MaxPooling2 (None, 13, 13, 32)        0         \n",
      "_________________________________________________________________\n",
      "conv2d_4 (Conv2D)            (None, 11, 11, 64)        18496     \n",
      "_________________________________________________________________\n",
      "max_pooling2d_3 (MaxPooling2 (None, 5, 5, 64)          0         \n",
      "_________________________________________________________________\n",
      "conv2d_5 (Conv2D)            (None, 3, 3, 64)          36928     \n",
      "=================================================================\n",
      "Total params: 55,744\n",
      "Trainable params: 55,744\n",
      "Non-trainable params: 0\n",
      "_________________________________________________________________\n"
     ]
    }
   ],
   "source": [
    "# instantiating convnet model\n",
    "model = models.Sequential()\n",
    "model.add(layers.Conv2D(32, (3, 3), activation = 'relu', input_shape = (28, 28 , 1)))\n",
    "model.add(layers.MaxPooling2D(2, 2))\n",
    "model.add(layers.Conv2D(64, (3 , 3), activation = 'relu'))\n",
    "model.add(layers.MaxPooling2D(2, 2))\n",
    "model.add(layers.Conv2D(64, (3 ,3), activation = 'relu'))\n",
    "\n",
    "# show summary of model\n",
    "model.summary()"
   ]
  },
  {
   "cell_type": "code",
   "execution_count": 5,
   "metadata": {},
   "outputs": [
    {
     "name": "stdout",
     "output_type": "stream",
     "text": [
      "Model: \"sequential_2\"\n",
      "_________________________________________________________________\n",
      "Layer (type)                 Output Shape              Param #   \n",
      "=================================================================\n",
      "conv2d_3 (Conv2D)            (None, 26, 26, 32)        320       \n",
      "_________________________________________________________________\n",
      "max_pooling2d_2 (MaxPooling2 (None, 13, 13, 32)        0         \n",
      "_________________________________________________________________\n",
      "conv2d_4 (Conv2D)            (None, 11, 11, 64)        18496     \n",
      "_________________________________________________________________\n",
      "max_pooling2d_3 (MaxPooling2 (None, 5, 5, 64)          0         \n",
      "_________________________________________________________________\n",
      "conv2d_5 (Conv2D)            (None, 3, 3, 64)          36928     \n",
      "_________________________________________________________________\n",
      "flatten (Flatten)            (None, 576)               0         \n",
      "_________________________________________________________________\n",
      "dense (Dense)                (None, 64)                36928     \n",
      "_________________________________________________________________\n",
      "dense_1 (Dense)              (None, 10)                650       \n",
      "=================================================================\n",
      "Total params: 93,322\n",
      "Trainable params: 93,322\n",
      "Non-trainable params: 0\n",
      "_________________________________________________________________\n"
     ]
    }
   ],
   "source": [
    "# add classifier on top of convnet\n",
    "model.add(layers.Flatten())\n",
    "model.add(layers.Dense(64, activation = 'relu'))\n",
    "model.add(layers.Dense(10, activation = 'softmax'))\n",
    "\n",
    "# show summary of final network\n",
    "model.summary()"
   ]
  },
  {
   "cell_type": "code",
   "execution_count": 6,
   "metadata": {},
   "outputs": [
    {
     "name": "stdout",
     "output_type": "stream",
     "text": [
      "Downloading data from https://storage.googleapis.com/tensorflow/tf-keras-datasets/mnist.npz\n",
      "11493376/11490434 [==============================] - 1s 0us/step\n"
     ]
    }
   ],
   "source": [
    "# train the convnet on MNIST data images\n",
    "# set training and test data\n",
    "(train_images, train_labels), (test_images, test_labels) = mnist.load_data()\n",
    "\n",
    "# get images into required shape and scale values between 0 and 1\n",
    "train_images = train_images.reshape((60000, 28, 28 ,1))\n",
    "train_images = train_images.astype('float32') / 255\n",
    "\n",
    "test_images = test_images.reshape((10000, 28, 28, 1))\n",
    "test_images = test_images.astype('float32') / 255\n",
    "\n",
    "# make labels categorical\n",
    "train_labels = to_categorical(train_labels)\n",
    "test_labels = to_categorical(test_labels)"
   ]
  },
  {
   "cell_type": "code",
   "execution_count": 20,
   "metadata": {},
   "outputs": [
    {
     "data": {
      "text/plain": [
       "48000.0"
      ]
     },
     "execution_count": 20,
     "metadata": {},
     "output_type": "execute_result"
    }
   ],
   "source": [
    "len(train_images) * .8"
   ]
  },
  {
   "cell_type": "code",
   "execution_count": 21,
   "metadata": {},
   "outputs": [],
   "source": [
    "# create validation data\n",
    "partial_train_images = train_images[48000:]\n",
    "partial_train_labels = train_labels[48000:]\n",
    "\n",
    "x_val = train_images[:48000]\n",
    "y_val = train_labels[:48000]"
   ]
  },
  {
   "cell_type": "code",
   "execution_count": 8,
   "metadata": {},
   "outputs": [],
   "source": [
    "# compile model\n",
    "model.compile(optimizer = 'rmsprop',\n",
    "             loss = 'categorical_crossentropy',\n",
    "             metrics = ['accuracy'])"
   ]
  },
  {
   "cell_type": "code",
   "execution_count": 22,
   "metadata": {},
   "outputs": [
    {
     "name": "stdout",
     "output_type": "stream",
     "text": [
      "Epoch 1/5\n",
      "188/188 [==============================] - 7s 35ms/step - loss: 0.0052 - accuracy: 0.9983 - val_loss: 0.0064 - val_accuracy: 0.9978\n",
      "Epoch 2/5\n",
      "188/188 [==============================] - 7s 35ms/step - loss: 0.0021 - accuracy: 0.9992 - val_loss: 0.0052 - val_accuracy: 0.9985\n",
      "Epoch 3/5\n",
      "188/188 [==============================] - 7s 35ms/step - loss: 0.0022 - accuracy: 0.9994 - val_loss: 0.0098 - val_accuracy: 0.9975\n",
      "Epoch 4/5\n",
      "188/188 [==============================] - 6s 34ms/step - loss: 0.0015 - accuracy: 0.9994 - val_loss: 0.0075 - val_accuracy: 0.9982\n",
      "Epoch 5/5\n",
      "188/188 [==============================] - 7s 35ms/step - loss: 4.9725e-04 - accuracy: 0.9998 - val_loss: 0.0112 - val_accuracy: 0.9971\n"
     ]
    }
   ],
   "source": [
    "# fit model on training data\n",
    "history = model.fit(partial_train_images,\n",
    "                    partial_train_labels,\n",
    "                    epochs = 5,\n",
    "                    batch_size = 64,\n",
    "                    validation_data = (x_val, y_val))"
   ]
  },
  {
   "cell_type": "code",
   "execution_count": 23,
   "metadata": {},
   "outputs": [],
   "source": [
    "# same the model\n",
    "model.save('results/mnist_model.h5')"
   ]
  },
  {
   "cell_type": "code",
   "execution_count": 24,
   "metadata": {},
   "outputs": [
    {
     "name": "stdout",
     "output_type": "stream",
     "text": [
      "313/313 [==============================] - 1s 4ms/step - loss: 0.0589 - accuracy: 0.9910\n"
     ]
    }
   ],
   "source": [
    "# evaluate the model\n",
    "test_loss, test_acc = model.evaluate(test_images, test_labels)"
   ]
  },
  {
   "cell_type": "code",
   "execution_count": 26,
   "metadata": {},
   "outputs": [
    {
     "data": {
      "image/png": "[encoded data removed]",
      "text/plain": [
       "<Figure size 432x288 with 1 Axes>"
      ]
     },
     "metadata": {
      "needs_background": "light"
     },
     "output_type": "display_data"
    }
   ],
   "source": [
    "# load required package for plotting\n",
    "import matplotlib.pyplot as plt\n",
    "\n",
    "# visualizing training and validation loss\n",
    "history_dict = history.history\n",
    "loss_values = history_dict['loss']\n",
    "val_loss_values = history_dict['val_loss']\n",
    "\n",
    "epochs = range(1, len(history_dict['loss']) + 1)\n",
    "\n",
    "plt.plot(epochs, loss_values, 'bo', label = 'Training loss')\n",
    "plt.plot(epochs, val_loss_values, 'b', label = 'Validation loss')\n",
    "plt.title('Training and Validation Loss')\n",
    "plt.xlabel('Epochs')\n",
    "plt.ylabel('Loss')\n",
    "plt.legend()\n",
    "\n",
    "plt.show()"
   ]
  },
  {
   "cell_type": "code",
   "execution_count": 29,
   "metadata": {},
   "outputs": [
    {
     "data": {
      "image/png": "[encoded data removed]",
      "text/plain": [
       "<Figure size 432x288 with 1 Axes>"
      ]
     },
     "metadata": {
      "needs_background": "light"
     },
     "output_type": "display_data"
    }
   ],
   "source": [
    "# visualizing training and validation accuracy\n",
    "acc_values = history_dict['accuracy']\n",
    "val_acc_values = history_dict['val_accuracy']\n",
    "\n",
    "plt.plot(epochs, acc_values, 'bo', label = 'Training accuracy')\n",
    "plt.plot(epochs, val_acc_values, 'b', label = 'Validation accuracy')\n",
    "plt.title('Training and Validation Accuracy')\n",
    "plt.xlabel('Epochs')\n",
    "plt.ylabel('Accuracy')\n",
    "plt.legend()\n",
    "\n",
    "plt.show()"
   ]
  },
  {
   "cell_type": "code",
   "execution_count": 40,
   "metadata": {},
   "outputs": [
    {
     "data": {
      "text/plain": [
       "array([[8.9767605e-19, 1.2372783e-14, 1.1407340e-15, ..., 1.0000000e+00,\n",
       "        1.4723888e-16, 2.7455544e-15],\n",
       "       [1.2440252e-17, 5.9981604e-18, 1.0000000e+00, ..., 8.0372307e-28,\n",
       "        1.1180866e-21, 1.5592437e-33],\n",
       "       [2.8715087e-20, 1.0000000e+00, 5.6771272e-17, ..., 2.7079245e-13,\n",
       "        8.6901345e-17, 6.3058046e-19],\n",
       "       ...,\n",
       "       [1.9627813e-37, 5.8969778e-24, 1.0165472e-28, ..., 5.3463736e-22,\n",
       "        6.9682141e-18, 1.4387737e-25],\n",
       "       [1.5131837e-21, 4.3407244e-21, 2.9654266e-30, ..., 3.1767515e-26,\n",
       "        3.1886537e-16, 7.6865742e-21],\n",
       "       [3.8456873e-19, 4.2870962e-20, 4.7518680e-20, ..., 6.6190112e-30,\n",
       "        2.8518402e-18, 2.6728372e-27]], dtype=float32)"
      ]
     },
     "execution_count": 40,
     "metadata": {},
     "output_type": "execute_result"
    }
   ],
   "source": [
    "# use model to make predictions\n",
    "model.predict(test_images)"
   ]
  },
  {
   "cell_type": "markdown",
   "metadata": {},
   "source": [
    "### Assignment 6.2\n",
    "\n",
    "### Assignment 6.2.a\n",
    "\n",
    "Using section 5.2 in Deep Learning with Python as a guide, create a ConvNet model that classifies images CIFAR10 small images classification dataset. Do not use dropout or data-augmentation in this part. Save the model, predictions, metrics, and validation plots in the dsc650/assignments/assignment06/results directory. If you are using JupyterHub, you can include those plots in your Jupyter notebook."
   ]
  },
  {
   "cell_type": "code",
   "execution_count": 43,
   "metadata": {},
   "outputs": [],
   "source": [
    "# load required packages\n",
    "from keras.datasets import cifar10"
   ]
  },
  {
   "cell_type": "code",
   "execution_count": 44,
   "metadata": {},
   "outputs": [
    {
     "name": "stdout",
     "output_type": "stream",
     "text": [
      "Downloading data from https://www.cs.toronto.edu/~kriz/cifar-10-python.tar.gz\n",
      "170500096/170498071 [==============================] - 19s 0us/step\n"
     ]
    }
   ],
   "source": [
    "# load data\n",
    "(train_img, train_lbl), (test_img, test_lbl) = cifar10.load_data()"
   ]
  },
  {
   "cell_type": "code",
   "execution_count": 46,
   "metadata": {},
   "outputs": [
    {
     "name": "stdout",
     "output_type": "stream",
     "text": [
      "(32, 32, 3)\n",
      "<class 'numpy.ndarray'>\n"
     ]
    }
   ],
   "source": [
    "print(train_img[0].shape)\n",
    "print(type(train_img[0]))"
   ]
  },
  {
   "cell_type": "code",
   "execution_count": 58,
   "metadata": {},
   "outputs": [
    {
     "name": "stdout",
     "output_type": "stream",
     "text": [
      "Model: \"sequential_6\"\n",
      "_________________________________________________________________\n",
      "Layer (type)                 Output Shape              Param #   \n",
      "=================================================================\n",
      "conv2d_16 (Conv2D)           (None, 30, 30, 32)        896       \n",
      "_________________________________________________________________\n",
      "max_pooling2d_13 (MaxPooling (None, 15, 15, 32)        0         \n",
      "_________________________________________________________________\n",
      "conv2d_17 (Conv2D)           (None, 13, 13, 64)        18496     \n",
      "_________________________________________________________________\n",
      "max_pooling2d_14 (MaxPooling (None, 6, 6, 64)          0         \n",
      "_________________________________________________________________\n",
      "conv2d_18 (Conv2D)           (None, 4, 4, 128)         73856     \n",
      "_________________________________________________________________\n",
      "max_pooling2d_15 (MaxPooling (None, 2, 2, 128)         0         \n",
      "_________________________________________________________________\n",
      "flatten_3 (Flatten)          (None, 512)               0         \n",
      "_________________________________________________________________\n",
      "dense_6 (Dense)              (None, 512)               262656    \n",
      "_________________________________________________________________\n",
      "dense_7 (Dense)              (None, 10)                5130      \n",
      "=================================================================\n",
      "Total params: 361,034\n",
      "Trainable params: 361,034\n",
      "Non-trainable params: 0\n",
      "_________________________________________________________________\n"
     ]
    }
   ],
   "source": [
    "# instantiating convnet model\n",
    "model = models.Sequential()\n",
    "model.add(layers.Conv2D(32, (3, 3), activation = 'relu', input_shape = (32, 32 , 3)))\n",
    "model.add(layers.MaxPooling2D(2, 2))\n",
    "model.add(layers.Conv2D(64, (3 , 3), activation = 'relu'))\n",
    "model.add(layers.MaxPooling2D(2, 2))\n",
    "model.add(layers.Conv2D(128, (3 , 3), activation = 'relu'))\n",
    "model.add(layers.MaxPooling2D(2, 2))\n",
    "model.add(layers.Flatten())\n",
    "model.add(layers.Dense(512, activation = 'relu'))\n",
    "model.add(layers.Dense(10, activation = 'softmax'))\n",
    "\n",
    "# show summary of model\n",
    "model.summary()"
   ]
  },
  {
   "cell_type": "code",
   "execution_count": 49,
   "metadata": {},
   "outputs": [],
   "source": [
    "# get images into required shape and scale values between 0 and 1\n",
    "train_img = train_img.astype('float32') / 255\n",
    "test_img = test_img.astype('float32') / 255\n",
    "\n",
    "# make labels categorical\n",
    "train_lbl = to_categorical(train_lbl)\n",
    "test_lbl = to_categorical(test_lbl)"
   ]
  },
  {
   "cell_type": "code",
   "execution_count": 50,
   "metadata": {},
   "outputs": [
    {
     "data": {
      "text/plain": [
       "40000.0"
      ]
     },
     "execution_count": 50,
     "metadata": {},
     "output_type": "execute_result"
    }
   ],
   "source": [
    "len(train_img) * .8"
   ]
  },
  {
   "cell_type": "code",
   "execution_count": 54,
   "metadata": {},
   "outputs": [],
   "source": [
    "# create validation data\n",
    "partial_train_img = train_img[40000:]\n",
    "partial_train_lbl = train_lbl[40000:]\n",
    "\n",
    "x_val = train_img[:40000]\n",
    "y_val = train_lbl[:40000]"
   ]
  },
  {
   "cell_type": "code",
   "execution_count": 59,
   "metadata": {},
   "outputs": [],
   "source": [
    "# compile model\n",
    "model.compile(optimizer = 'rmsprop',\n",
    "             loss = 'categorical_crossentropy',\n",
    "             metrics = ['accuracy'])"
   ]
  },
  {
   "cell_type": "code",
   "execution_count": 61,
   "metadata": {},
   "outputs": [
    {
     "name": "stdout",
     "output_type": "stream",
     "text": [
      "Epoch 1/20\n",
      "100/100 [==============================] - 7s 67ms/step - loss: 1.0812 - accuracy: 0.6146 - val_loss: 1.4378 - val_accuracy: 0.5085\n",
      "Epoch 2/20\n",
      "100/100 [==============================] - 7s 66ms/step - loss: 1.0034 - accuracy: 0.6490 - val_loss: 1.2337 - val_accuracy: 0.5759\n",
      "Epoch 3/20\n",
      "100/100 [==============================] - 7s 65ms/step - loss: 0.9360 - accuracy: 0.6722 - val_loss: 1.1402 - val_accuracy: 0.6048\n",
      "Epoch 4/20\n",
      "100/100 [==============================] - 7s 66ms/step - loss: 0.8539 - accuracy: 0.6988 - val_loss: 1.2023 - val_accuracy: 0.5914\n",
      "Epoch 5/20\n",
      "100/100 [==============================] - 7s 66ms/step - loss: 0.7723 - accuracy: 0.7306 - val_loss: 1.1875 - val_accuracy: 0.6026\n",
      "Epoch 6/20\n",
      "100/100 [==============================] - 7s 66ms/step - loss: 0.7033 - accuracy: 0.7518 - val_loss: 1.2380 - val_accuracy: 0.5964\n",
      "Epoch 7/20\n",
      "100/100 [==============================] - 7s 65ms/step - loss: 0.6392 - accuracy: 0.7753 - val_loss: 1.2402 - val_accuracy: 0.6066\n",
      "Epoch 8/20\n",
      "100/100 [==============================] - 7s 67ms/step - loss: 0.5516 - accuracy: 0.8033 - val_loss: 1.3070 - val_accuracy: 0.6052\n",
      "Epoch 9/20\n",
      "100/100 [==============================] - 7s 66ms/step - loss: 0.5093 - accuracy: 0.8166 - val_loss: 1.2727 - val_accuracy: 0.6167\n",
      "Epoch 10/20\n",
      "100/100 [==============================] - 7s 69ms/step - loss: 0.4380 - accuracy: 0.8449 - val_loss: 1.3855 - val_accuracy: 0.6059\n",
      "Epoch 11/20\n",
      "100/100 [==============================] - 7s 66ms/step - loss: 0.3736 - accuracy: 0.8702 - val_loss: 1.5968 - val_accuracy: 0.5878\n",
      "Epoch 12/20\n",
      "100/100 [==============================] - 6s 65ms/step - loss: 0.3268 - accuracy: 0.8845 - val_loss: 1.4948 - val_accuracy: 0.6026\n",
      "Epoch 13/20\n",
      "100/100 [==============================] - 7s 65ms/step - loss: 0.2745 - accuracy: 0.9062 - val_loss: 1.6275 - val_accuracy: 0.5866\n",
      "Epoch 14/20\n",
      "100/100 [==============================] - 7s 66ms/step - loss: 0.2342 - accuracy: 0.9237 - val_loss: 1.7363 - val_accuracy: 0.5912\n",
      "Epoch 15/20\n",
      "100/100 [==============================] - 7s 69ms/step - loss: 0.1989 - accuracy: 0.9349 - val_loss: 1.7081 - val_accuracy: 0.6052\n",
      "Epoch 16/20\n",
      "100/100 [==============================] - 7s 67ms/step - loss: 0.1762 - accuracy: 0.9416 - val_loss: 1.8366 - val_accuracy: 0.6011\n",
      "Epoch 17/20\n",
      "100/100 [==============================] - 7s 69ms/step - loss: 0.1639 - accuracy: 0.9530 - val_loss: 2.0169 - val_accuracy: 0.5974\n",
      "Epoch 18/20\n",
      "100/100 [==============================] - 7s 66ms/step - loss: 0.1278 - accuracy: 0.9605 - val_loss: 2.0454 - val_accuracy: 0.5998\n",
      "Epoch 19/20\n",
      "100/100 [==============================] - 7s 69ms/step - loss: 0.1105 - accuracy: 0.9680 - val_loss: 2.2038 - val_accuracy: 0.5990\n",
      "Epoch 20/20\n",
      "100/100 [==============================] - 7s 68ms/step - loss: 0.1036 - accuracy: 0.9677 - val_loss: 2.1862 - val_accuracy: 0.6081\n"
     ]
    }
   ],
   "source": [
    "# fit model on training data\n",
    "history = model.fit(partial_train_img,\n",
    "                    partial_train_lbl,\n",
    "                    epochs = 20,\n",
    "                    batch_size = 100,\n",
    "                    validation_data = (x_val, y_val))"
   ]
  },
  {
   "cell_type": "code",
   "execution_count": 62,
   "metadata": {},
   "outputs": [],
   "source": [
    "# same the model\n",
    "model.save('results/cifar10_model.h5')"
   ]
  },
  {
   "cell_type": "code",
   "execution_count": 63,
   "metadata": {},
   "outputs": [
    {
     "data": {
      "image/png": "[encoded data removed]",
      "text/plain": [
       "<Figure size 432x288 with 1 Axes>"
      ]
     },
     "metadata": {
      "needs_background": "light"
     },
     "output_type": "display_data"
    }
   ],
   "source": [
    "# visualizing training and validation loss\n",
    "history_dict = history.history\n",
    "loss_values = history_dict['loss']\n",
    "val_loss_values = history_dict['val_loss']\n",
    "\n",
    "epochs = range(1, len(history_dict['loss']) + 1)\n",
    "\n",
    "plt.plot(epochs, loss_values, 'bo', label = 'Training loss')\n",
    "plt.plot(epochs, val_loss_values, 'b', label = 'Validation loss')\n",
    "plt.title('Training and Validation Loss')\n",
    "plt.xlabel('Epochs')\n",
    "plt.ylabel('Loss')\n",
    "plt.legend()\n",
    "\n",
    "plt.show()"
   ]
  },
  {
   "cell_type": "code",
   "execution_count": 64,
   "metadata": {},
   "outputs": [
    {
     "data": {
      "image/png": "[encoded data removed]",
      "text/plain": [
       "<Figure size 432x288 with 1 Axes>"
      ]
     },
     "metadata": {
      "needs_background": "light"
     },
     "output_type": "display_data"
    }
   ],
   "source": [
    "# visualizing training and validation accuracy\n",
    "acc_values = history_dict['accuracy']\n",
    "val_acc_values = history_dict['val_accuracy']\n",
    "\n",
    "plt.plot(epochs, acc_values, 'bo', label = 'Training accuracy')\n",
    "plt.plot(epochs, val_acc_values, 'b', label = 'Validation accuracy')\n",
    "plt.title('Training and Validation Accuracy')\n",
    "plt.xlabel('Epochs')\n",
    "plt.ylabel('Accuracy')\n",
    "plt.legend()\n",
    "\n",
    "plt.show()"
   ]
  },
  {
   "cell_type": "code",
   "execution_count": 65,
   "metadata": {},
   "outputs": [
    {
     "name": "stdout",
     "output_type": "stream",
     "text": [
      "313/313 [==============================] - 2s 5ms/step - loss: 2.2083 - accuracy: 0.6087\n"
     ]
    }
   ],
   "source": [
    "# evaluate the model\n",
    "test_loss, test_acc = model.evaluate(test_img, test_lbl)"
   ]
  },
  {
   "cell_type": "code",
   "execution_count": 66,
   "metadata": {},
   "outputs": [
    {
     "data": {
      "text/plain": [
       "array([[1.7023220e-03, 7.0071442e-04, 3.2855693e-02, ..., 1.2006836e-06,\n",
       "        4.3316535e-04, 1.7606332e-09],\n",
       "       [9.5919997e-04, 2.0691791e-06, 2.9321309e-10, ..., 3.2057056e-14,\n",
       "        9.9903858e-01, 2.1529002e-07],\n",
       "       [2.2668445e-03, 3.7749320e-02, 5.6899581e-02, ..., 4.9430033e-04,\n",
       "        8.4784150e-01, 4.5829985e-02],\n",
       "       ...,\n",
       "       [9.6549721e-12, 5.8083061e-15, 4.6902660e-06, ..., 8.4781907e-02,\n",
       "        2.8201205e-11, 5.7306631e-14],\n",
       "       [2.7673188e-04, 7.7620232e-01, 3.2378870e-05, ..., 2.1825226e-01,\n",
       "        4.6892543e-09, 9.3070876e-06],\n",
       "       [1.4000377e-13, 1.4844449e-14, 6.7267543e-09, ..., 9.9986255e-01,\n",
       "        1.3659674e-15, 4.1734130e-14]], dtype=float32)"
      ]
     },
     "execution_count": 66,
     "metadata": {},
     "output_type": "execute_result"
    }
   ],
   "source": [
    "# use model to make predictions\n",
    "model.predict(test_img)"
   ]
  },
  {
   "cell_type": "markdown",
   "metadata": {},
   "source": [
    "### Assignment 6.2.b\n",
    "\n",
    "Using section 5.2 in Deep Learning with Python as a guide, create a ConvNet model that classifies images CIFAR10 small images classification dataset. This time includes dropout and data-augmentation. Save the model, predictions, metrics, and validation plots in the dsc650/assignments/assignment06/results directory. If you are using JupyterHub, you can include those plots in your Jupyter notebook."
   ]
  },
  {
   "cell_type": "code",
   "execution_count": 83,
   "metadata": {},
   "outputs": [],
   "source": [
    "# load require packages\n",
    "from keras.preprocessing.image import ImageDataGenerator\n",
    "from keras.optimizers import Adam"
   ]
  },
  {
   "cell_type": "code",
   "execution_count": 72,
   "metadata": {},
   "outputs": [
    {
     "name": "stdout",
     "output_type": "stream",
     "text": [
      "Model: \"sequential_8\"\n",
      "_________________________________________________________________\n",
      "Layer (type)                 Output Shape              Param #   \n",
      "=================================================================\n",
      "conv2d_22 (Conv2D)           (None, 30, 30, 32)        896       \n",
      "_________________________________________________________________\n",
      "max_pooling2d_19 (MaxPooling (None, 15, 15, 32)        0         \n",
      "_________________________________________________________________\n",
      "conv2d_23 (Conv2D)           (None, 13, 13, 64)        18496     \n",
      "_________________________________________________________________\n",
      "max_pooling2d_20 (MaxPooling (None, 6, 6, 64)          0         \n",
      "_________________________________________________________________\n",
      "conv2d_24 (Conv2D)           (None, 4, 4, 128)         73856     \n",
      "_________________________________________________________________\n",
      "max_pooling2d_21 (MaxPooling (None, 2, 2, 128)         0         \n",
      "_________________________________________________________________\n",
      "flatten_5 (Flatten)          (None, 512)               0         \n",
      "_________________________________________________________________\n",
      "dropout_1 (Dropout)          (None, 512)               0         \n",
      "_________________________________________________________________\n",
      "dense_10 (Dense)             (None, 512)               262656    \n",
      "_________________________________________________________________\n",
      "dense_11 (Dense)             (None, 10)                5130      \n",
      "=================================================================\n",
      "Total params: 361,034\n",
      "Trainable params: 361,034\n",
      "Non-trainable params: 0\n",
      "_________________________________________________________________\n"
     ]
    }
   ],
   "source": [
    "# instantiating convnet model with dropout\n",
    "model = models.Sequential()\n",
    "model.add(layers.Conv2D(32, (3, 3), activation = 'relu', input_shape = (32, 32 , 3)))\n",
    "model.add(layers.MaxPooling2D(2, 2))\n",
    "model.add(layers.Conv2D(64, (3 , 3), activation = 'relu'))\n",
    "model.add(layers.MaxPooling2D(2, 2))\n",
    "model.add(layers.Conv2D(128, (3 , 3), activation = 'relu'))\n",
    "model.add(layers.MaxPooling2D(2, 2))\n",
    "model.add(layers.Flatten())\n",
    "model.add(layers.Dropout(0.5))\n",
    "model.add(layers.Dense(512, activation = 'relu'))\n",
    "model.add(layers.Dense(10, activation = 'softmax'))\n",
    "\n",
    "# show summary of model\n",
    "model.summary()"
   ]
  },
  {
   "cell_type": "code",
   "execution_count": 84,
   "metadata": {},
   "outputs": [],
   "source": [
    "# compile model\n",
    "model.compile(optimizer = Adam(lr = 0.001, decay = 0, beta_1 = 0.9, beta_2 = 0.999, epsilon = 1e-08),\n",
    "             loss = 'categorical_crossentropy',\n",
    "             metrics = ['accuracy'])"
   ]
  },
  {
   "cell_type": "code",
   "execution_count": 86,
   "metadata": {},
   "outputs": [],
   "source": [
    "# load data\n",
    "(train_img, train_lbl), (test_img, test_lbl) = cifar10.load_data()"
   ]
  },
  {
   "cell_type": "code",
   "execution_count": 87,
   "metadata": {},
   "outputs": [],
   "source": [
    "# setting up data augmentation generators\n",
    "train_datagen = ImageDataGenerator(rescale= 1. / 255,\n",
    "                                  rotation_range = 40,\n",
    "                                  width_shift_range = 0.2,\n",
    "                                  height_shift_range = 0.2,\n",
    "                                  shear_range = 0.2,\n",
    "                                  zoom_range = 0.2,\n",
    "                                  horizontal_flip = True)\n",
    "test_datagen = ImageDataGenerator(rescale = 1. / 255)\n",
    "\n",
    "# fit data to datagens\n",
    "train_generator = train_datagen.fit(train_img)\n",
    "\n",
    "test_generator = test_datagen.fit(test_img)"
   ]
  },
  {
   "cell_type": "code",
   "execution_count": 88,
   "metadata": {},
   "outputs": [],
   "source": [
    "# make labels categorical\n",
    "train_lbl = to_categorical(train_lbl)\n",
    "test_lbl = to_categorical(test_lbl)"
   ]
  },
  {
   "cell_type": "code",
   "execution_count": 91,
   "metadata": {},
   "outputs": [
    {
     "name": "stdout",
     "output_type": "stream",
     "text": [
      "Epoch 1/40\n",
      "75/75 [==============================] - 8s 103ms/step - loss: 1.2819 - accuracy: 0.5430 - val_loss: 232.0316 - val_accuracy: 0.3418\n",
      "Epoch 2/40\n",
      "75/75 [==============================] - 8s 104ms/step - loss: 1.2264 - accuracy: 0.5673 - val_loss: 277.3300 - val_accuracy: 0.2996\n",
      "Epoch 3/40\n",
      "75/75 [==============================] - 8s 104ms/step - loss: 1.2709 - accuracy: 0.5493 - val_loss: 247.0160 - val_accuracy: 0.2613\n",
      "Epoch 4/40\n",
      "75/75 [==============================] - 8s 104ms/step - loss: 1.2393 - accuracy: 0.5545 - val_loss: 187.2179 - val_accuracy: 0.3331\n",
      "Epoch 5/40\n",
      "75/75 [==============================] - 8s 104ms/step - loss: 1.2436 - accuracy: 0.5551 - val_loss: 211.1610 - val_accuracy: 0.3213\n",
      "Epoch 6/40\n",
      "75/75 [==============================] - 8s 102ms/step - loss: 1.2280 - accuracy: 0.5651 - val_loss: 209.8908 - val_accuracy: 0.3013\n",
      "Epoch 7/40\n",
      "75/75 [==============================] - 8s 103ms/step - loss: 1.2394 - accuracy: 0.5603 - val_loss: 191.6044 - val_accuracy: 0.3414\n",
      "Epoch 8/40\n",
      "75/75 [==============================] - 8s 103ms/step - loss: 1.2382 - accuracy: 0.5591 - val_loss: 237.9874 - val_accuracy: 0.3081\n",
      "Epoch 9/40\n",
      "75/75 [==============================] - 8s 105ms/step - loss: 1.2211 - accuracy: 0.5678 - val_loss: 260.7308 - val_accuracy: 0.3104\n",
      "Epoch 10/40\n",
      "75/75 [==============================] - 8s 104ms/step - loss: 1.2311 - accuracy: 0.5590 - val_loss: 255.0438 - val_accuracy: 0.2628\n",
      "Epoch 11/40\n",
      "75/75 [==============================] - 8s 105ms/step - loss: 1.2148 - accuracy: 0.5616 - val_loss: 248.5657 - val_accuracy: 0.2635\n",
      "Epoch 12/40\n",
      "75/75 [==============================] - 8s 105ms/step - loss: 1.2261 - accuracy: 0.5664 - val_loss: 229.2393 - val_accuracy: 0.2907\n",
      "Epoch 13/40\n",
      "75/75 [==============================] - 8s 105ms/step - loss: 1.2181 - accuracy: 0.5710 - val_loss: 256.4063 - val_accuracy: 0.3043\n",
      "Epoch 14/40\n",
      "75/75 [==============================] - 8s 104ms/step - loss: 1.2296 - accuracy: 0.5611 - val_loss: 186.8730 - val_accuracy: 0.3524\n",
      "Epoch 15/40\n",
      "75/75 [==============================] - 8s 104ms/step - loss: 1.2122 - accuracy: 0.5675 - val_loss: 223.3685 - val_accuracy: 0.3283\n",
      "Epoch 16/40\n",
      "75/75 [==============================] - 8s 103ms/step - loss: 1.2101 - accuracy: 0.5722 - val_loss: 211.9667 - val_accuracy: 0.3197\n",
      "Epoch 17/40\n",
      "75/75 [==============================] - 8s 105ms/step - loss: 1.2137 - accuracy: 0.5628 - val_loss: 221.5148 - val_accuracy: 0.2767\n",
      "Epoch 18/40\n",
      "75/75 [==============================] - 8s 105ms/step - loss: 1.2056 - accuracy: 0.5729 - val_loss: 190.7071 - val_accuracy: 0.3230\n",
      "Epoch 19/40\n",
      "75/75 [==============================] - 8s 104ms/step - loss: 1.1925 - accuracy: 0.5750 - val_loss: 249.1257 - val_accuracy: 0.2783\n",
      "Epoch 20/40\n",
      "75/75 [==============================] - 8s 105ms/step - loss: 1.1923 - accuracy: 0.5817 - val_loss: 207.4463 - val_accuracy: 0.3514\n",
      "Epoch 21/40\n",
      "75/75 [==============================] - 8s 104ms/step - loss: 1.2088 - accuracy: 0.5705 - val_loss: 178.6885 - val_accuracy: 0.3359\n",
      "Epoch 22/40\n",
      "75/75 [==============================] - 8s 103ms/step - loss: 1.2006 - accuracy: 0.5734 - val_loss: 206.3521 - val_accuracy: 0.3069\n",
      "Epoch 23/40\n",
      "75/75 [==============================] - 8s 104ms/step - loss: 1.1920 - accuracy: 0.5807 - val_loss: 248.4212 - val_accuracy: 0.2882\n",
      "Epoch 24/40\n",
      "75/75 [==============================] - 8s 104ms/step - loss: 1.1921 - accuracy: 0.5734 - val_loss: 220.4462 - val_accuracy: 0.3243\n",
      "Epoch 25/40\n",
      "75/75 [==============================] - 8s 103ms/step - loss: 1.2076 - accuracy: 0.5726 - val_loss: 210.8831 - val_accuracy: 0.3263\n",
      "Epoch 26/40\n",
      "75/75 [==============================] - 8s 103ms/step - loss: 1.2032 - accuracy: 0.5767 - val_loss: 207.3208 - val_accuracy: 0.3364\n",
      "Epoch 27/40\n",
      "75/75 [==============================] - 8s 103ms/step - loss: 1.1788 - accuracy: 0.5862 - val_loss: 195.2968 - val_accuracy: 0.3232\n",
      "Epoch 28/40\n",
      "75/75 [==============================] - 8s 106ms/step - loss: 1.1928 - accuracy: 0.5826 - val_loss: 225.0753 - val_accuracy: 0.3010\n",
      "Epoch 29/40\n",
      "75/75 [==============================] - 8s 105ms/step - loss: 1.1868 - accuracy: 0.5824 - val_loss: 193.8779 - val_accuracy: 0.3271\n",
      "Epoch 30/40\n",
      "75/75 [==============================] - 8s 105ms/step - loss: 1.1736 - accuracy: 0.5818 - val_loss: 208.4133 - val_accuracy: 0.3156\n",
      "Epoch 31/40\n",
      "75/75 [==============================] - 8s 104ms/step - loss: 1.1719 - accuracy: 0.5836 - val_loss: 205.5379 - val_accuracy: 0.3227\n",
      "Epoch 32/40\n",
      "75/75 [==============================] - 8s 104ms/step - loss: 1.1889 - accuracy: 0.5827 - val_loss: 231.3316 - val_accuracy: 0.3200\n",
      "Epoch 33/40\n",
      "75/75 [==============================] - 8s 104ms/step - loss: 1.1782 - accuracy: 0.5833 - val_loss: 177.3244 - val_accuracy: 0.3483\n",
      "Epoch 34/40\n",
      "75/75 [==============================] - 8s 104ms/step - loss: 1.1936 - accuracy: 0.5775 - val_loss: 215.6142 - val_accuracy: 0.3070\n",
      "Epoch 35/40\n",
      "75/75 [==============================] - 8s 103ms/step - loss: 1.1598 - accuracy: 0.5870 - val_loss: 200.5562 - val_accuracy: 0.3280\n",
      "Epoch 36/40\n",
      "75/75 [==============================] - 8s 104ms/step - loss: 1.1747 - accuracy: 0.5858 - val_loss: 205.6581 - val_accuracy: 0.3077\n",
      "Epoch 37/40\n",
      "75/75 [==============================] - 8s 105ms/step - loss: 1.1598 - accuracy: 0.5871 - val_loss: 213.8187 - val_accuracy: 0.3202\n",
      "Epoch 38/40\n",
      "75/75 [==============================] - 8s 106ms/step - loss: 1.1983 - accuracy: 0.5776 - val_loss: 199.2314 - val_accuracy: 0.2996\n",
      "Epoch 39/40\n",
      "75/75 [==============================] - 10s 134ms/step - loss: 1.1543 - accuracy: 0.5927 - val_loss: 208.3276 - val_accuracy: 0.3168\n",
      "Epoch 40/40\n",
      "75/75 [==============================] - 8s 105ms/step - loss: 1.1531 - accuracy: 0.5877 - val_loss: 209.8361 - val_accuracy: 0.3501\n"
     ]
    }
   ],
   "source": [
    "# fit model on training data\n",
    "history = model.fit(train_datagen.flow(train_img,\n",
    "                    train_lbl,\n",
    "                    batch_size = 128),\n",
    "                    steps_per_epoch = 75,\n",
    "                    epochs = 40,\n",
    "                    validation_data = (test_img, test_lbl))"
   ]
  },
  {
   "cell_type": "code",
   "execution_count": 92,
   "metadata": {},
   "outputs": [],
   "source": [
    "# same the model\n",
    "model.save('results/cifar10_model_dropout.h5')"
   ]
  },
  {
   "cell_type": "code",
   "execution_count": 93,
   "metadata": {},
   "outputs": [
    {
     "data": {
      "image/png": "[encoded data removed]",
      "text/plain": [
       "<Figure size 432x288 with 1 Axes>"
      ]
     },
     "metadata": {
      "needs_background": "light"
     },
     "output_type": "display_data"
    }
   ],
   "source": [
    "# visualizing training and validation loss\n",
    "history_dict = history.history\n",
    "loss_values = history_dict['loss']\n",
    "val_loss_values = history_dict['val_loss']\n",
    "\n",
    "epochs = range(1, len(history_dict['loss']) + 1)\n",
    "\n",
    "plt.plot(epochs, loss_values, 'bo', label = 'Training loss')\n",
    "plt.plot(epochs, val_loss_values, 'b', label = 'Validation loss')\n",
    "plt.title('Training and Validation Loss')\n",
    "plt.xlabel('Epochs')\n",
    "plt.ylabel('Loss')\n",
    "plt.legend()\n",
    "\n",
    "plt.show()"
   ]
  },
  {
   "cell_type": "code",
   "execution_count": 94,
   "metadata": {},
   "outputs": [
    {
     "data": {
      "image/png": "[encoded data removed]",
      "text/plain": [
       "<Figure size 432x288 with 1 Axes>"
      ]
     },
     "metadata": {
      "needs_background": "light"
     },
     "output_type": "display_data"
    }
   ],
   "source": [
    "# visualizing training and validation accuracy\n",
    "acc_values = history_dict['accuracy']\n",
    "val_acc_values = history_dict['val_accuracy']\n",
    "\n",
    "plt.plot(epochs, acc_values, 'bo', label = 'Training accuracy')\n",
    "plt.plot(epochs, val_acc_values, 'b', label = 'Validation accuracy')\n",
    "plt.title('Training and Validation Accuracy')\n",
    "plt.xlabel('Epochs')\n",
    "plt.ylabel('Accuracy')\n",
    "plt.legend()\n",
    "\n",
    "plt.show()"
   ]
  },
  {
   "cell_type": "markdown",
   "metadata": {},
   "source": [
    "The loss and accuracy for the validation set seems to be off from what I expected, but I am not sure how to address the issue."
   ]
  },
  {
   "cell_type": "markdown",
   "metadata": {},
   "source": [
    "### Assignment 6.3\n",
    "\n",
    "Load the ResNet50 model. Perform image classification on five to ten images of your choice. They can be personal images or publically available images. Include the images in dsc650/assignments/assignment06/images/. Save the predictions dsc650/assignments/assignment06/results/predictions/resnet50 directory. If you are using JupyterHub, you can include those plots in your Jupyter notebook."
   ]
  },
  {
   "cell_type": "code",
   "execution_count": 98,
   "metadata": {},
   "outputs": [],
   "source": [
    "# load required package\n",
    "from keras.applications.resnet50 import ResNet50\n",
    "from keras.preprocessing import image\n",
    "from keras.applications.resnet50 import preprocess_input, decode_predictions\n",
    "import numpy as np"
   ]
  },
  {
   "cell_type": "code",
   "execution_count": 113,
   "metadata": {},
   "outputs": [
    {
     "name": "stdout",
     "output_type": "stream",
     "text": [
      "images/download.jpg\n",
      "Predicted: [('n04482393', 'tricycle', 0.27062738), ('n03271574', 'electric_fan', 0.26139906), ('n03179701', 'desk', 0.124647595)]\n",
      "images/tiger-medium.jpg\n",
      "Predicted: [('n02129604', 'tiger', 0.8977178), ('n02123159', 'tiger_cat', 0.10013881), ('n02127052', 'lynx', 0.0014594225)]\n",
      "images/download4.jpg\n",
      "Predicted: [('n01753488', 'horned_viper', 0.38406605), ('n01756291', 'sidewinder', 0.108210616), ('n01728572', 'thunder_snake', 0.09972099)]\n",
      "images/download2.jpg\n",
      "Predicted: [('n02007558', 'flamingo', 0.9999714), ('n02012849', 'crane', 1.0658489e-05), ('n03532672', 'hook', 2.5975128e-06)]\n",
      "images/download1.jpg\n",
      "Predicted: [('n02497673', 'Madagascar_cat', 0.7530316), ('n02500267', 'indri', 0.22903742), ('n02484975', 'guenon', 0.004620276)]\n",
      "images/download3.jpg\n",
      "Predicted: [('n01843383', 'toucan', 0.9902644), ('n01829413', 'hornbill', 0.0028130738), ('n01818515', 'macaw', 0.0011939406)]\n"
     ]
    }
   ],
   "source": [
    "model = ResNet50(weights='imagenet')\n",
    "\n",
    "import os\n",
    "\n",
    "img_path = os.path.join('/home/jovyan/dsc650/dsc650/assignments/assignment06/', 'images')\n",
    "\n",
    "images = os.listdir(img_path)\n",
    "\n",
    "for img in images:\n",
    "    im_path = os.path.join('images/', img)\n",
    "    print(im_path)\n",
    "    img = image.load_img(im_path, target_size=(224, 224))\n",
    "    x = image.img_to_array(img)\n",
    "    x = np.expand_dims(x, axis=0)\n",
    "    x = preprocess_input(x)\n",
    "\n",
    "    preds = model.predict(x)\n",
    "    # decode the results into a list of tuples (class, description, probability)\n",
    "    # (one such list for each sample in the batch)\n",
    "    print('Predicted:', decode_predictions(preds, top=3)[0])"
   ]
  },
  {
   "cell_type": "code",
   "execution_count": null,
   "metadata": {},
   "outputs": [],
   "source": []
  }
 ],
 "metadata": {
  "kernelspec": {
   "display_name": "Python 3",
   "language": "python",
   "name": "python3"
  },
  "language_info": {
   "codemirror_mode": {
    "name": "ipython",
    "version": 3
   },
   "file_extension": ".py",
   "mimetype": "text/x-python",
   "name": "python",
   "nbconvert_exporter": "python",
   "pygments_lexer": "ipython3",
   "version": "3.8.6"
  }
 },
 "nbformat": 4,
 "nbformat_minor": 4
}
