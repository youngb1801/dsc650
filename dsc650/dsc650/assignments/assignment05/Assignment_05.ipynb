{
 "cells": [
  {
   "cell_type": "markdown",
   "metadata": {},
   "source": [
    "## Assignment 5\n",
    "\n",
    "In this assignment, you will be reproducing the models described in the examples from chapter three of Deep Learning with Python. You will use that code to create a workflow that trains the model, uses the model to perform model validation, and output model metrics."
   ]
  },
  {
   "cell_type": "markdown",
   "metadata": {},
   "source": [
    "### Assignment 5.1\n",
    "\n",
    "Implement the movie review classifier found in section 3.4 of Deep Learning with Python."
   ]
  },
  {
   "cell_type": "code",
   "execution_count": 1,
   "metadata": {},
   "outputs": [],
   "source": [
    "# import required packages\n",
    "import numpy as np\n",
    "from keras.datasets import imdb\n",
    "from keras import models\n",
    "from keras import layers\n",
    "from keras import optimizers\n",
    "from keras import losses\n",
    "from keras import metrics\n",
    "import matplotlib.pyplot as plt"
   ]
  },
  {
   "cell_type": "code",
   "execution_count": 2,
   "metadata": {},
   "outputs": [
    {
     "name": "stdout",
     "output_type": "stream",
     "text": [
      "Downloading data from https://storage.googleapis.com/tensorflow/tf-keras-datasets/imdb.npz\n",
      "17465344/17464789 [==============================] - 1s 0us/step\n"
     ]
    }
   ],
   "source": [
    "# load data\n",
    "(train_data, train_labels), (test_data, test_labels) = imdb.load_data(num_words = 10000)"
   ]
  },
  {
   "cell_type": "code",
   "execution_count": 3,
   "metadata": {},
   "outputs": [],
   "source": [
    "# create function to encode interger sequences into binary matrix\n",
    "def vectorize_sequences(sequences, dimension = 10000):\n",
    "    results = np.zeros((len(sequences), dimension))\n",
    "    for i, sequence in enumerate(sequences):\n",
    "        results[i, sequence] = 1.\n",
    "    return results"
   ]
  },
  {
   "cell_type": "code",
   "execution_count": 4,
   "metadata": {},
   "outputs": [],
   "source": [
    "# apply function to train and test data\n",
    "x_train = vectorize_sequences(train_data)\n",
    "x_test = vectorize_sequences(test_data)"
   ]
  },
  {
   "cell_type": "code",
   "execution_count": 5,
   "metadata": {},
   "outputs": [],
   "source": [
    "# vectorize data labels\n",
    "y_train = np.asarray(train_labels).astype('float32')\n",
    "y_test = np.asarray(test_labels).astype('float32')"
   ]
  },
  {
   "cell_type": "code",
   "execution_count": 6,
   "metadata": {},
   "outputs": [],
   "source": [
    "# create a validation set\n",
    "partial_x_train = x_train[10000:]\n",
    "x_val = x_train[:10000]\n",
    "partial_y_train = y_train[10000:]\n",
    "y_val = y_train[:10000]"
   ]
  },
  {
   "cell_type": "code",
   "execution_count": 7,
   "metadata": {},
   "outputs": [],
   "source": [
    "# define neural network model\n",
    "model = models.Sequential()\n",
    "model.add(layers.Dense(16, activation = 'relu', input_shape = (10000,)))\n",
    "model.add(layers.Dense(16, activation = 'relu'))\n",
    "model.add(layers.Dense(1, activation = 'sigmoid'))"
   ]
  },
  {
   "cell_type": "code",
   "execution_count": 8,
   "metadata": {},
   "outputs": [],
   "source": [
    "# compile the model\n",
    "model.compile(optimizer = 'rmsprop',\n",
    "             loss = 'binary_crossentropy',\n",
    "             metrics = ['acc'])"
   ]
  },
  {
   "cell_type": "code",
   "execution_count": 9,
   "metadata": {},
   "outputs": [
    {
     "name": "stdout",
     "output_type": "stream",
     "text": [
      "Epoch 1/20\n",
      "30/30 [==============================] - 1s 43ms/step - loss: 0.5724 - acc: 0.6861 - val_loss: 0.4438 - val_acc: 0.8477\n",
      "Epoch 2/20\n",
      "30/30 [==============================] - 1s 29ms/step - loss: 0.3491 - acc: 0.8929 - val_loss: 0.3230 - val_acc: 0.8868\n",
      "Epoch 3/20\n",
      "30/30 [==============================] - 1s 29ms/step - loss: 0.2387 - acc: 0.9264 - val_loss: 0.2836 - val_acc: 0.8907\n",
      "Epoch 4/20\n",
      "30/30 [==============================] - 1s 33ms/step - loss: 0.1885 - acc: 0.9407 - val_loss: 0.2870 - val_acc: 0.8855\n",
      "Epoch 5/20\n",
      "30/30 [==============================] - 1s 27ms/step - loss: 0.1498 - acc: 0.9537 - val_loss: 0.2855 - val_acc: 0.8865\n",
      "Epoch 6/20\n",
      "30/30 [==============================] - 1s 26ms/step - loss: 0.1235 - acc: 0.9628 - val_loss: 0.2928 - val_acc: 0.8868\n",
      "Epoch 7/20\n",
      "30/30 [==============================] - 1s 27ms/step - loss: 0.1022 - acc: 0.9699 - val_loss: 0.3625 - val_acc: 0.8674\n",
      "Epoch 8/20\n",
      "30/30 [==============================] - 1s 27ms/step - loss: 0.0815 - acc: 0.9781 - val_loss: 0.3446 - val_acc: 0.8775\n",
      "Epoch 9/20\n",
      "30/30 [==============================] - 1s 27ms/step - loss: 0.0697 - acc: 0.9818 - val_loss: 0.3673 - val_acc: 0.8753\n",
      "Epoch 10/20\n",
      "30/30 [==============================] - 1s 28ms/step - loss: 0.0556 - acc: 0.9866 - val_loss: 0.4143 - val_acc: 0.8691\n",
      "Epoch 11/20\n",
      "30/30 [==============================] - 1s 35ms/step - loss: 0.0433 - acc: 0.9914 - val_loss: 0.3995 - val_acc: 0.8782\n",
      "Epoch 12/20\n",
      "30/30 [==============================] - 1s 41ms/step - loss: 0.0381 - acc: 0.9911 - val_loss: 0.4328 - val_acc: 0.8776\n",
      "Epoch 13/20\n",
      "30/30 [==============================] - 1s 44ms/step - loss: 0.0226 - acc: 0.9971 - val_loss: 0.4812 - val_acc: 0.8720\n",
      "Epoch 14/20\n",
      "30/30 [==============================] - 1s 34ms/step - loss: 0.0230 - acc: 0.9958 - val_loss: 0.4945 - val_acc: 0.8731\n",
      "Epoch 15/20\n",
      "30/30 [==============================] - 1s 33ms/step - loss: 0.0177 - acc: 0.9972 - val_loss: 0.5211 - val_acc: 0.8742\n",
      "Epoch 16/20\n",
      "30/30 [==============================] - 1s 26ms/step - loss: 0.0174 - acc: 0.9958 - val_loss: 0.5529 - val_acc: 0.8717\n",
      "Epoch 17/20\n",
      "30/30 [==============================] - 1s 28ms/step - loss: 0.0075 - acc: 0.9996 - val_loss: 0.5906 - val_acc: 0.8684\n",
      "Epoch 18/20\n",
      "30/30 [==============================] - 1s 27ms/step - loss: 0.0081 - acc: 0.9993 - val_loss: 0.6173 - val_acc: 0.8701\n",
      "Epoch 19/20\n",
      "30/30 [==============================] - 1s 26ms/step - loss: 0.0101 - acc: 0.9981 - val_loss: 0.6469 - val_acc: 0.8712\n",
      "Epoch 20/20\n",
      "30/30 [==============================] - 1s 35ms/step - loss: 0.0033 - acc: 0.9998 - val_loss: 0.6753 - val_acc: 0.8698\n"
     ]
    }
   ],
   "source": [
    "# training the model\n",
    "history = model.fit(partial_x_train,\n",
    "                   partial_y_train,\n",
    "                   epochs = 20,\n",
    "                   batch_size = 512,\n",
    "                   validation_data = (x_val, y_val))"
   ]
  },
  {
   "cell_type": "code",
   "execution_count": 11,
   "metadata": {},
   "outputs": [
    {
     "data": {
      "image/png": "[encoded data removed]",
      "text/plain": [
       "<Figure size 432x288 with 1 Axes>"
      ]
     },
     "metadata": {
      "needs_background": "light"
     },
     "output_type": "display_data"
    }
   ],
   "source": [
    "# visualizing training and validation loss\n",
    "history_dict = history.history\n",
    "loss_values = history_dict['loss']\n",
    "val_loss_values = history_dict['val_loss']\n",
    "\n",
    "epochs = range(1, len(history_dict['acc']) + 1)\n",
    "\n",
    "plt.plot(epochs, loss_values, 'bo', label = 'Training loss')\n",
    "plt.plot(epochs, val_loss_values, 'b', label = 'Validation loss')\n",
    "plt.title('Training and Validation Loss')\n",
    "plt.xlabel('Epochs')\n",
    "plt.ylabel('Loss')\n",
    "plt.legend()\n",
    "\n",
    "plt.show()"
   ]
  },
  {
   "cell_type": "code",
   "execution_count": 12,
   "metadata": {},
   "outputs": [
    {
     "data": {
      "image/png": "[encoded data removed]",
      "text/plain": [
       "<Figure size 432x288 with 1 Axes>"
      ]
     },
     "metadata": {
      "needs_background": "light"
     },
     "output_type": "display_data"
    }
   ],
   "source": [
    "# visualizing training and validation accuracy\n",
    "acc_values = history_dict['acc']\n",
    "val_acc_values = history_dict['val_acc']\n",
    "\n",
    "plt.plot(epochs, acc_values, 'bo', label = 'Training accuracy')\n",
    "plt.plot(epochs, val_acc_values, 'b', label = 'Validation accuracy')\n",
    "plt.title('Training and Validation Accuracy')\n",
    "plt.xlabel('Epochs')\n",
    "plt.ylabel('Accuracy')\n",
    "plt.legend()\n",
    "\n",
    "plt.show()"
   ]
  },
  {
   "cell_type": "code",
   "execution_count": 13,
   "metadata": {},
   "outputs": [
    {
     "name": "stdout",
     "output_type": "stream",
     "text": [
      "782/782 [==============================] - 2s 2ms/step - loss: 0.7472 - acc: 0.8513\n",
      "[0.7471513152122498, 0.8512799739837646]\n"
     ]
    }
   ],
   "source": [
    "# evaluate the model\n",
    "results = model.evaluate(x_test, y_test)\n",
    "\n",
    "print(results)"
   ]
  },
  {
   "cell_type": "code",
   "execution_count": 14,
   "metadata": {},
   "outputs": [
    {
     "data": {
      "text/plain": [
       "array([[3.7848055e-03],\n",
       "       [9.9999523e-01],\n",
       "       [9.9439192e-01],\n",
       "       ...,\n",
       "       [8.7636709e-04],\n",
       "       [1.2678683e-02],\n",
       "       [5.1174659e-01]], dtype=float32)"
      ]
     },
     "execution_count": 14,
     "metadata": {},
     "output_type": "execute_result"
    }
   ],
   "source": [
    "# use model to make predictions\n",
    "model.predict(x_test)"
   ]
  },
  {
   "cell_type": "markdown",
   "metadata": {},
   "source": [
    "### Assignment 5.2\n",
    "\n",
    "Implement the news classifier found in section 3.5 of Deep Learning with Python."
   ]
  },
  {
   "cell_type": "code",
   "execution_count": 15,
   "metadata": {},
   "outputs": [],
   "source": [
    "# load required packages\n",
    "from keras.datasets import reuters\n",
    "import copy"
   ]
  },
  {
   "cell_type": "code",
   "execution_count": 16,
   "metadata": {},
   "outputs": [
    {
     "name": "stdout",
     "output_type": "stream",
     "text": [
      "Downloading data from https://storage.googleapis.com/tensorflow/tf-keras-datasets/reuters.npz\n",
      "2113536/2110848 [==============================] - 0s 0us/step\n"
     ]
    }
   ],
   "source": [
    "# load data\n",
    "(train_data, train_labels), (test_data, test_labels) = reuters.load_data(num_words = 10000)"
   ]
  },
  {
   "cell_type": "code",
   "execution_count": 17,
   "metadata": {},
   "outputs": [],
   "source": [
    "# apply encoding function to train and test data\n",
    "x_train = vectorize_sequences(train_data)\n",
    "x_test = vectorize_sequences(test_data)"
   ]
  },
  {
   "cell_type": "code",
   "execution_count": 18,
   "metadata": {},
   "outputs": [],
   "source": [
    "# define function to perform one-hot-encoding\n",
    "def to_one_hot(labels, dimension = 46):\n",
    "    results = np.zeros((len(labels), dimension))\n",
    "    for i, label in enumerate(labels):\n",
    "        results[i, label] = 1.\n",
    "    return results"
   ]
  },
  {
   "cell_type": "code",
   "execution_count": 19,
   "metadata": {},
   "outputs": [],
   "source": [
    "# apply one-hot-encoding to data\n",
    "one_hot_train_labels = to_one_hot(train_labels)\n",
    "one_hot_test_labels = to_one_hot(test_labels)"
   ]
  },
  {
   "cell_type": "code",
   "execution_count": 20,
   "metadata": {},
   "outputs": [],
   "source": [
    "# create validation set\n",
    "partial_x_train = x_train[1000:]\n",
    "x_val = x_train[:1000]\n",
    "partial_y_train = one_hot_train_labels[1000:]\n",
    "y_val = one_hot_train_labels[:1000]"
   ]
  },
  {
   "cell_type": "code",
   "execution_count": 21,
   "metadata": {},
   "outputs": [],
   "source": [
    "# define neural network model\n",
    "model = models.Sequential()\n",
    "model.add(layers.Dense(64, activation = 'relu', input_shape = (10000, )))\n",
    "model.add(layers.Dense(64, activation = 'relu'))\n",
    "model.add(layers.Dense(46, activation = 'softmax'))"
   ]
  },
  {
   "cell_type": "code",
   "execution_count": 22,
   "metadata": {},
   "outputs": [],
   "source": [
    "# compile the model\n",
    "model.compile(optimizer = 'rmsprop',\n",
    "             loss = 'categorical_crossentropy',\n",
    "             metrics = ['accuracy'])"
   ]
  },
  {
   "cell_type": "code",
   "execution_count": 23,
   "metadata": {},
   "outputs": [
    {
     "name": "stdout",
     "output_type": "stream",
     "text": [
      "Epoch 1/20\n",
      "16/16 [==============================] - 0s 25ms/step - loss: 2.5615 - accuracy: 0.5420 - val_loss: 1.6548 - val_accuracy: 0.6610\n",
      "Epoch 2/20\n",
      "16/16 [==============================] - 0s 18ms/step - loss: 1.3702 - accuracy: 0.7215 - val_loss: 1.2577 - val_accuracy: 0.7310\n",
      "Epoch 3/20\n",
      "16/16 [==============================] - 0s 17ms/step - loss: 1.0198 - accuracy: 0.7869 - val_loss: 1.1238 - val_accuracy: 0.7510\n",
      "Epoch 4/20\n",
      "16/16 [==============================] - 0s 16ms/step - loss: 0.8082 - accuracy: 0.8272 - val_loss: 1.0159 - val_accuracy: 0.7910\n",
      "Epoch 5/20\n",
      "16/16 [==============================] - 0s 16ms/step - loss: 0.6419 - accuracy: 0.8611 - val_loss: 0.9821 - val_accuracy: 0.7970\n",
      "Epoch 6/20\n",
      "16/16 [==============================] - 0s 21ms/step - loss: 0.5173 - accuracy: 0.8939 - val_loss: 0.9347 - val_accuracy: 0.8030\n",
      "Epoch 7/20\n",
      "16/16 [==============================] - 0s 18ms/step - loss: 0.4149 - accuracy: 0.9186 - val_loss: 0.9110 - val_accuracy: 0.8160\n",
      "Epoch 8/20\n",
      "16/16 [==============================] - 0s 16ms/step - loss: 0.3361 - accuracy: 0.9316 - val_loss: 0.9424 - val_accuracy: 0.8020\n",
      "Epoch 9/20\n",
      "16/16 [==============================] - 0s 15ms/step - loss: 0.2798 - accuracy: 0.9404 - val_loss: 0.9046 - val_accuracy: 0.8160\n",
      "Epoch 10/20\n",
      "16/16 [==============================] - 0s 14ms/step - loss: 0.2352 - accuracy: 0.9459 - val_loss: 0.9230 - val_accuracy: 0.8100\n",
      "Epoch 11/20\n",
      "16/16 [==============================] - 0s 18ms/step - loss: 0.2057 - accuracy: 0.9518 - val_loss: 0.9578 - val_accuracy: 0.8110\n",
      "Epoch 12/20\n",
      "16/16 [==============================] - 0s 21ms/step - loss: 0.1805 - accuracy: 0.9503 - val_loss: 0.9477 - val_accuracy: 0.8160\n",
      "Epoch 13/20\n",
      "16/16 [==============================] - 0s 18ms/step - loss: 0.1651 - accuracy: 0.9534 - val_loss: 0.9609 - val_accuracy: 0.8150\n",
      "Epoch 14/20\n",
      "16/16 [==============================] - 0s 18ms/step - loss: 0.1474 - accuracy: 0.9565 - val_loss: 0.9638 - val_accuracy: 0.8210\n",
      "Epoch 15/20\n",
      "16/16 [==============================] - 0s 14ms/step - loss: 0.1419 - accuracy: 0.9539 - val_loss: 1.0115 - val_accuracy: 0.8100\n",
      "Epoch 16/20\n",
      "16/16 [==============================] - 0s 17ms/step - loss: 0.1263 - accuracy: 0.9565 - val_loss: 1.0453 - val_accuracy: 0.8120\n",
      "Epoch 17/20\n",
      "16/16 [==============================] - 0s 18ms/step - loss: 0.1241 - accuracy: 0.9578 - val_loss: 1.0308 - val_accuracy: 0.8190\n",
      "Epoch 18/20\n",
      "16/16 [==============================] - 0s 15ms/step - loss: 0.1232 - accuracy: 0.9575 - val_loss: 1.0573 - val_accuracy: 0.8080\n",
      "Epoch 19/20\n",
      "16/16 [==============================] - 0s 17ms/step - loss: 0.1135 - accuracy: 0.9574 - val_loss: 1.0675 - val_accuracy: 0.8140\n",
      "Epoch 20/20\n",
      "16/16 [==============================] - 0s 19ms/step - loss: 0.1101 - accuracy: 0.9587 - val_loss: 1.0916 - val_accuracy: 0.8040\n"
     ]
    },
    {
     "data": {
      "text/plain": [
       "<tensorflow.python.keras.callbacks.History at 0x7f432d62f640>"
      ]
     },
     "execution_count": 23,
     "metadata": {},
     "output_type": "execute_result"
    }
   ],
   "source": [
    "# train the model\n",
    "model.fit(partial_x_train,\n",
    "         partial_y_train,\n",
    "         epochs = 20,\n",
    "         batch_size = 512,\n",
    "         validation_data = (x_val, y_val))"
   ]
  },
  {
   "cell_type": "code",
   "execution_count": 24,
   "metadata": {},
   "outputs": [
    {
     "data": {
      "image/png": "[encoded data removed]",
      "text/plain": [
       "<Figure size 432x288 with 1 Axes>"
      ]
     },
     "metadata": {
      "needs_background": "light"
     },
     "output_type": "display_data"
    }
   ],
   "source": [
    "# visualizing training and validation loss\n",
    "loss = history.history['loss']\n",
    "val_loss = history.history['val_loss']\n",
    "\n",
    "epochs = range(1, len(loss) + 1)\n",
    "\n",
    "plt.plot(epochs, loss, 'bo', label = 'Training loss')\n",
    "plt.plot(epochs, val_loss, 'b', label = 'Validation loss')\n",
    "plt.title('Training and Validation Loss')\n",
    "plt.xlabel('Epochs')\n",
    "plt.ylabel('Loss')\n",
    "plt.legend()\n",
    "\n",
    "plt.show()"
   ]
  },
  {
   "cell_type": "code",
   "execution_count": 25,
   "metadata": {},
   "outputs": [
    {
     "data": {
      "image/png": "[encoded data removed]",
      "text/plain": [
       "<Figure size 432x288 with 1 Axes>"
      ]
     },
     "metadata": {
      "needs_background": "light"
     },
     "output_type": "display_data"
    }
   ],
   "source": [
    "# visualizing training and validation accuracy\n",
    "acc = history.history['acc']\n",
    "val_acc = history.history['val_acc']\n",
    "\n",
    "plt.plot(epochs, acc, 'bo', label = 'Training accuracy')\n",
    "plt.plot(epochs, val_acc, 'b', label = 'Validation accuracy')\n",
    "plt.title('Training and Validation Accuracy')\n",
    "plt.xlabel('Epochs')\n",
    "plt.ylabel('Accuracy')\n",
    "plt.legend()\n",
    "\n",
    "plt.show()"
   ]
  },
  {
   "cell_type": "code",
   "execution_count": 26,
   "metadata": {},
   "outputs": [
    {
     "name": "stdout",
     "output_type": "stream",
     "text": [
      "71/71 [==============================] - 0s 2ms/step - loss: 1.2971 - accuracy: 0.7796\n",
      "[1.2970781326293945, 0.7796081900596619]\n"
     ]
    }
   ],
   "source": [
    "# evaluating the model\n",
    "results = model.evaluate(x_test, one_hot_test_labels)\n",
    "\n",
    "print(results)"
   ]
  },
  {
   "cell_type": "code",
   "execution_count": 29,
   "metadata": {},
   "outputs": [
    {
     "data": {
      "text/plain": [
       "0.18788958147818344"
      ]
     },
     "execution_count": 29,
     "metadata": {},
     "output_type": "execute_result"
    }
   ],
   "source": [
    "#\n",
    "test_labels_copy = copy.copy(test_labels)\n",
    "np.random.shuffle(test_labels_copy)\n",
    "hits_array = np.array(test_labels) == np.array(test_labels_copy)\n",
    "float(np.sum(hits_array)/len(test_labels))"
   ]
  },
  {
   "cell_type": "code",
   "execution_count": 30,
   "metadata": {},
   "outputs": [
    {
     "name": "stdout",
     "output_type": "stream",
     "text": [
      "(46,)\n",
      "1.0000002\n",
      "3\n"
     ]
    }
   ],
   "source": [
    "# predict test results\n",
    "predictions = model.predict(x_test)\n",
    "\n",
    "print(predictions[0].shape)\n",
    "\n",
    "print(np.sum(predictions[0]))\n",
    "\n",
    "print(np.argmax(predictions[0]))"
   ]
  },
  {
   "cell_type": "code",
   "execution_count": 32,
   "metadata": {},
   "outputs": [
    {
     "name": "stdout",
     "output_type": "stream",
     "text": [
      "Epoch 1/20\n",
      "63/63 [==============================] - 1s 9ms/step - loss: 2.9010 - accuracy: 0.4118 - val_loss: 2.0794 - val_accuracy: 0.5760\n",
      "Epoch 2/20\n",
      "63/63 [==============================] - 0s 7ms/step - loss: 1.7169 - accuracy: 0.6299 - val_loss: 1.5568 - val_accuracy: 0.6200\n",
      "Epoch 3/20\n",
      "63/63 [==============================] - 0s 8ms/step - loss: 1.3441 - accuracy: 0.6649 - val_loss: 1.4070 - val_accuracy: 0.6530\n",
      "Epoch 4/20\n",
      "63/63 [==============================] - 0s 7ms/step - loss: 1.1517 - accuracy: 0.7090 - val_loss: 1.3240 - val_accuracy: 0.6970\n",
      "Epoch 5/20\n",
      "63/63 [==============================] - 0s 7ms/step - loss: 1.0100 - accuracy: 0.7518 - val_loss: 1.3102 - val_accuracy: 0.6970\n",
      "Epoch 6/20\n",
      "63/63 [==============================] - 0s 7ms/step - loss: 0.9108 - accuracy: 0.7745 - val_loss: 1.2897 - val_accuracy: 0.7050\n",
      "Epoch 7/20\n",
      "63/63 [==============================] - 0s 7ms/step - loss: 0.8330 - accuracy: 0.7861 - val_loss: 1.3058 - val_accuracy: 0.7090\n",
      "Epoch 8/20\n",
      "63/63 [==============================] - 0s 8ms/step - loss: 0.7680 - accuracy: 0.7962 - val_loss: 1.3204 - val_accuracy: 0.7100\n",
      "Epoch 9/20\n",
      "63/63 [==============================] - 0s 7ms/step - loss: 0.7181 - accuracy: 0.8041 - val_loss: 1.3528 - val_accuracy: 0.7130\n",
      "Epoch 10/20\n",
      "63/63 [==============================] - 0s 8ms/step - loss: 0.6705 - accuracy: 0.8163 - val_loss: 1.3763 - val_accuracy: 0.7160\n",
      "Epoch 11/20\n",
      "63/63 [==============================] - 0s 8ms/step - loss: 0.6325 - accuracy: 0.8249 - val_loss: 1.4324 - val_accuracy: 0.7150\n",
      "Epoch 12/20\n",
      "63/63 [==============================] - 1s 8ms/step - loss: 0.5958 - accuracy: 0.8325 - val_loss: 1.4601 - val_accuracy: 0.7180\n",
      "Epoch 13/20\n",
      "63/63 [==============================] - 0s 6ms/step - loss: 0.5652 - accuracy: 0.8419 - val_loss: 1.4937 - val_accuracy: 0.7140\n",
      "Epoch 14/20\n",
      "63/63 [==============================] - 0s 7ms/step - loss: 0.5380 - accuracy: 0.8502 - val_loss: 1.5970 - val_accuracy: 0.7090\n",
      "Epoch 15/20\n",
      "63/63 [==============================] - 0s 7ms/step - loss: 0.5136 - accuracy: 0.8567 - val_loss: 1.5769 - val_accuracy: 0.7240\n",
      "Epoch 16/20\n",
      "63/63 [==============================] - 0s 7ms/step - loss: 0.4924 - accuracy: 0.8649 - val_loss: 1.6275 - val_accuracy: 0.7190\n",
      "Epoch 17/20\n",
      "63/63 [==============================] - 1s 8ms/step - loss: 0.4705 - accuracy: 0.8700 - val_loss: 1.7258 - val_accuracy: 0.7220\n",
      "Epoch 18/20\n",
      "63/63 [==============================] - 0s 7ms/step - loss: 0.4530 - accuracy: 0.8740 - val_loss: 1.7121 - val_accuracy: 0.7250\n",
      "Epoch 19/20\n",
      "63/63 [==============================] - 0s 8ms/step - loss: 0.4375 - accuracy: 0.8789 - val_loss: 1.7985 - val_accuracy: 0.7200\n",
      "Epoch 20/20\n",
      "63/63 [==============================] - 0s 7ms/step - loss: 0.4220 - accuracy: 0.8799 - val_loss: 1.8548 - val_accuracy: 0.7140\n"
     ]
    },
    {
     "data": {
      "text/plain": [
       "<tensorflow.python.keras.callbacks.History at 0x7f4354d80a00>"
      ]
     },
     "execution_count": 32,
     "metadata": {},
     "output_type": "execute_result"
    }
   ],
   "source": [
    "# creating a model with information bottleneck, compiling and fitting\n",
    "model = models.Sequential()\n",
    "model.add(layers.Dense(64, activation = 'relu', input_shape = (10000, )))\n",
    "model.add(layers.Dense(4, activation = 'relu'))\n",
    "model.add(layers.Dense(46, activation = 'softmax'))\n",
    "\n",
    "model.compile(optimizer = 'rmsprop',\n",
    "             loss = 'categorical_crossentropy',\n",
    "             metrics = ['accuracy'])\n",
    "\n",
    "model.fit(partial_x_train,\n",
    "         partial_y_train,\n",
    "         epochs = 20,\n",
    "         batch_size = 128,\n",
    "         validation_data = (x_val, y_val))"
   ]
  },
  {
   "cell_type": "code",
   "execution_count": 33,
   "metadata": {},
   "outputs": [
    {
     "name": "stdout",
     "output_type": "stream",
     "text": [
      "Epoch 1/20\n",
      "16/16 [==============================] - 0s 22ms/step - loss: 2.5691 - accuracy: 0.5168 - val_loss: 1.6496 - val_accuracy: 0.6470\n",
      "Epoch 2/20\n",
      "16/16 [==============================] - 0s 19ms/step - loss: 1.3611 - accuracy: 0.7103 - val_loss: 1.2513 - val_accuracy: 0.7170\n",
      "Epoch 3/20\n",
      "16/16 [==============================] - 0s 18ms/step - loss: 1.0175 - accuracy: 0.7784 - val_loss: 1.0948 - val_accuracy: 0.7680\n",
      "Epoch 4/20\n",
      "16/16 [==============================] - 0s 19ms/step - loss: 0.7990 - accuracy: 0.8299 - val_loss: 0.9969 - val_accuracy: 0.7960\n",
      "Epoch 5/20\n",
      "16/16 [==============================] - 0s 17ms/step - loss: 0.6289 - accuracy: 0.8668 - val_loss: 0.9486 - val_accuracy: 0.8080\n",
      "Epoch 6/20\n",
      "16/16 [==============================] - 0s 19ms/step - loss: 0.4938 - accuracy: 0.8963 - val_loss: 0.9323 - val_accuracy: 0.8100\n",
      "Epoch 7/20\n",
      "16/16 [==============================] - 0s 18ms/step - loss: 0.3895 - accuracy: 0.9184 - val_loss: 0.8823 - val_accuracy: 0.8180\n",
      "Epoch 8/20\n",
      "16/16 [==============================] - 0s 17ms/step - loss: 0.3165 - accuracy: 0.9328 - val_loss: 0.8816 - val_accuracy: 0.8150\n",
      "Epoch 9/20\n",
      "16/16 [==============================] - 0s 18ms/step - loss: 0.2608 - accuracy: 0.9415 - val_loss: 0.8780 - val_accuracy: 0.8270\n",
      "Epoch 10/20\n",
      "16/16 [==============================] - 0s 15ms/step - loss: 0.2142 - accuracy: 0.9493 - val_loss: 0.8963 - val_accuracy: 0.8260\n",
      "Epoch 11/20\n",
      "16/16 [==============================] - 0s 17ms/step - loss: 0.1917 - accuracy: 0.9509 - val_loss: 0.9076 - val_accuracy: 0.8190\n",
      "Epoch 12/20\n",
      "16/16 [==============================] - 0s 15ms/step - loss: 0.1702 - accuracy: 0.9524 - val_loss: 0.9506 - val_accuracy: 0.8170\n",
      "Epoch 13/20\n",
      "16/16 [==============================] - 0s 17ms/step - loss: 0.1567 - accuracy: 0.9562 - val_loss: 0.9524 - val_accuracy: 0.8350\n",
      "Epoch 14/20\n",
      "16/16 [==============================] - 0s 18ms/step - loss: 0.1413 - accuracy: 0.9563 - val_loss: 0.9691 - val_accuracy: 0.8170\n",
      "Epoch 15/20\n",
      "16/16 [==============================] - 0s 18ms/step - loss: 0.1335 - accuracy: 0.9555 - val_loss: 0.9614 - val_accuracy: 0.8230\n",
      "Epoch 16/20\n",
      "16/16 [==============================] - 0s 18ms/step - loss: 0.1262 - accuracy: 0.9568 - val_loss: 0.9893 - val_accuracy: 0.8190\n",
      "Epoch 17/20\n",
      "16/16 [==============================] - 0s 18ms/step - loss: 0.1255 - accuracy: 0.9563 - val_loss: 1.0162 - val_accuracy: 0.8170\n",
      "Epoch 18/20\n",
      "16/16 [==============================] - 0s 14ms/step - loss: 0.1176 - accuracy: 0.9572 - val_loss: 1.0474 - val_accuracy: 0.8100\n",
      "Epoch 19/20\n",
      "16/16 [==============================] - 0s 15ms/step - loss: 0.1147 - accuracy: 0.9585 - val_loss: 1.1044 - val_accuracy: 0.8000\n",
      "Epoch 20/20\n",
      "16/16 [==============================] - 0s 17ms/step - loss: 0.1088 - accuracy: 0.9589 - val_loss: 1.0843 - val_accuracy: 0.7970\n"
     ]
    },
    {
     "data": {
      "text/plain": [
       "<tensorflow.python.keras.callbacks.History at 0x7f4337058700>"
      ]
     },
     "execution_count": 33,
     "metadata": {},
     "output_type": "execute_result"
    }
   ],
   "source": [
    "# creating a model with larger layer, compiling and fitting\n",
    "model = models.Sequential()\n",
    "model.add(layers.Dense(64, activation = 'relu', input_shape = (10000, )))\n",
    "model.add(layers.Dense(128, activation = 'relu'))\n",
    "model.add(layers.Dense(46, activation = 'softmax'))\n",
    "\n",
    "model.compile(optimizer = 'rmsprop',\n",
    "             loss = 'categorical_crossentropy',\n",
    "             metrics = ['accuracy'])\n",
    "\n",
    "model.fit(partial_x_train,\n",
    "         partial_y_train,\n",
    "         epochs = 20,\n",
    "         batch_size = 512,\n",
    "         validation_data = (x_val, y_val))"
   ]
  },
  {
   "cell_type": "code",
   "execution_count": 34,
   "metadata": {},
   "outputs": [
    {
     "name": "stdout",
     "output_type": "stream",
     "text": [
      "Epoch 1/20\n",
      "16/16 [==============================] - 0s 20ms/step - loss: 2.5988 - accuracy: 0.5222 - val_loss: 1.6829 - val_accuracy: 0.6350\n",
      "Epoch 2/20\n",
      "16/16 [==============================] - 0s 16ms/step - loss: 1.4128 - accuracy: 0.6946 - val_loss: 1.3143 - val_accuracy: 0.6950\n",
      "Epoch 3/20\n",
      "16/16 [==============================] - 0s 18ms/step - loss: 1.0851 - accuracy: 0.7557 - val_loss: 1.1615 - val_accuracy: 0.7410\n",
      "Epoch 4/20\n",
      "16/16 [==============================] - 0s 17ms/step - loss: 0.8676 - accuracy: 0.7974 - val_loss: 1.0613 - val_accuracy: 0.7620\n",
      "Epoch 5/20\n",
      "16/16 [==============================] - 0s 19ms/step - loss: 0.6939 - accuracy: 0.8398 - val_loss: 1.0290 - val_accuracy: 0.7790\n",
      "Epoch 6/20\n",
      "16/16 [==============================] - 0s 18ms/step - loss: 0.5557 - accuracy: 0.8732 - val_loss: 0.9944 - val_accuracy: 0.7820\n",
      "Epoch 7/20\n",
      "16/16 [==============================] - 0s 18ms/step - loss: 0.4434 - accuracy: 0.9032 - val_loss: 1.0224 - val_accuracy: 0.7870\n",
      "Epoch 8/20\n",
      "16/16 [==============================] - 0s 16ms/step - loss: 0.3549 - accuracy: 0.9247 - val_loss: 1.0079 - val_accuracy: 0.7980\n",
      "Epoch 9/20\n",
      "16/16 [==============================] - 0s 17ms/step - loss: 0.3010 - accuracy: 0.9322 - val_loss: 0.9657 - val_accuracy: 0.8110\n",
      "Epoch 10/20\n",
      "16/16 [==============================] - 0s 18ms/step - loss: 0.2415 - accuracy: 0.9441 - val_loss: 1.1010 - val_accuracy: 0.7810\n",
      "Epoch 11/20\n",
      "16/16 [==============================] - 0s 19ms/step - loss: 0.2185 - accuracy: 0.9471 - val_loss: 1.0312 - val_accuracy: 0.8050\n",
      "Epoch 12/20\n",
      "16/16 [==============================] - 0s 18ms/step - loss: 0.1933 - accuracy: 0.9489 - val_loss: 1.0998 - val_accuracy: 0.7980\n",
      "Epoch 13/20\n",
      "16/16 [==============================] - 0s 16ms/step - loss: 0.1681 - accuracy: 0.9536 - val_loss: 1.2448 - val_accuracy: 0.7650\n",
      "Epoch 14/20\n",
      "16/16 [==============================] - 0s 18ms/step - loss: 0.1665 - accuracy: 0.9538 - val_loss: 1.1273 - val_accuracy: 0.7910\n",
      "Epoch 15/20\n",
      "16/16 [==============================] - 0s 17ms/step - loss: 0.1446 - accuracy: 0.9563 - val_loss: 1.1821 - val_accuracy: 0.7950\n",
      "Epoch 16/20\n",
      "16/16 [==============================] - 0s 16ms/step - loss: 0.1383 - accuracy: 0.9562 - val_loss: 1.2132 - val_accuracy: 0.7880\n",
      "Epoch 17/20\n",
      "16/16 [==============================] - 0s 14ms/step - loss: 0.1419 - accuracy: 0.9544 - val_loss: 1.2226 - val_accuracy: 0.7960\n",
      "Epoch 18/20\n",
      "16/16 [==============================] - 0s 15ms/step - loss: 0.1316 - accuracy: 0.9570 - val_loss: 1.2382 - val_accuracy: 0.7950\n",
      "Epoch 19/20\n",
      "16/16 [==============================] - 0s 15ms/step - loss: 0.1247 - accuracy: 0.9570 - val_loss: 1.2142 - val_accuracy: 0.7900\n",
      "Epoch 20/20\n",
      "16/16 [==============================] - 0s 14ms/step - loss: 0.1190 - accuracy: 0.9573 - val_loss: 1.2679 - val_accuracy: 0.7970\n"
     ]
    },
    {
     "data": {
      "text/plain": [
       "<tensorflow.python.keras.callbacks.History at 0x7f43370ee790>"
      ]
     },
     "execution_count": 34,
     "metadata": {},
     "output_type": "execute_result"
    }
   ],
   "source": [
    "# creating a model with additional layer, compiling and fitting\n",
    "model = models.Sequential()\n",
    "model.add(layers.Dense(64, activation = 'relu', input_shape = (10000, )))\n",
    "model.add(layers.Dense(64, activation = 'relu'))\n",
    "model.add(layers.Dense(64, activation = 'relu'))\n",
    "model.add(layers.Dense(46, activation = 'softmax'))\n",
    "\n",
    "model.compile(optimizer = 'rmsprop',\n",
    "             loss = 'categorical_crossentropy',\n",
    "             metrics = ['accuracy'])\n",
    "\n",
    "model.fit(partial_x_train,\n",
    "         partial_y_train,\n",
    "         epochs = 20,\n",
    "         batch_size = 512,\n",
    "         validation_data = (x_val, y_val))"
   ]
  },
  {
   "cell_type": "markdown",
   "metadata": {},
   "source": [
    "### Assignment 5.3\n",
    "\n",
    "Implement the housing price regression model found in section 3.6 of Deep Learning with Python."
   ]
  },
  {
   "cell_type": "code",
   "execution_count": 37,
   "metadata": {},
   "outputs": [],
   "source": [
    "# loading required packages\n",
    "from keras.datasets import boston_housing"
   ]
  },
  {
   "cell_type": "code",
   "execution_count": 44,
   "metadata": {},
   "outputs": [],
   "source": [
    "# load data\n",
    "(train_data, train_targets), (test_data, test_targets) = boston_housing.load_data()"
   ]
  },
  {
   "cell_type": "code",
   "execution_count": 45,
   "metadata": {},
   "outputs": [
    {
     "name": "stdout",
     "output_type": "stream",
     "text": [
      "(404, 13)\n",
      "(102, 13)\n"
     ]
    }
   ],
   "source": [
    "# show data shapes\n",
    "print(train_data.shape)\n",
    "print(test_data.shape)"
   ]
  },
  {
   "cell_type": "code",
   "execution_count": 46,
   "metadata": {},
   "outputs": [],
   "source": [
    "# normalize the data\n",
    "mean = train_data.mean(axis = 0)\n",
    "train_data -= mean\n",
    "std = train_data.std(axis = 0)\n",
    "train_data /= std\n",
    "\n",
    "test_data -= mean\n",
    "test_data /= std"
   ]
  },
  {
   "cell_type": "code",
   "execution_count": 51,
   "metadata": {},
   "outputs": [],
   "source": [
    "# define neural network model function\n",
    "def build_model():\n",
    "    model = models.Sequential()\n",
    "    model.add(layers.Dense(64, activation = 'relu', input_shape = (train_data.shape[1], )))\n",
    "    model.add(layers.Dense(64, activation = 'relu'))\n",
    "    model.add(layers.Dense(1))\n",
    "\n",
    "    # compile the model\n",
    "    model.compile(optimizer = 'rmsprop',\n",
    "                 loss = 'mse',\n",
    "                 metrics = ['mae'])\n",
    "    \n",
    "    return model"
   ]
  },
  {
   "cell_type": "code",
   "execution_count": 52,
   "metadata": {},
   "outputs": [
    {
     "name": "stdout",
     "output_type": "stream",
     "text": [
      "Processing fold # 0\n",
      "Processing fold # 1\n",
      "Processing fold # 2\n",
      "Processing fold # 3\n"
     ]
    }
   ],
   "source": [
    "# use k-fold validation with model function\n",
    "k = 4\n",
    "num_val_samples = len(train_data) // k\n",
    "num_epochs = 100\n",
    "all_scores = []\n",
    "\n",
    "for i in range(k):\n",
    "    print('Processing fold #', i)\n",
    "    val_data = train_data[i * num_val_samples: (i + 1) * num_val_samples]\n",
    "    val_targets = train_targets[i * num_val_samples: (i + 1) * num_val_samples]\n",
    "    \n",
    "    partial_train_data = np.concatenate([train_data[:i * num_val_samples],\n",
    "                                        train_data[(i + 1) * num_val_samples:]],\n",
    "                                        axis = 0)\n",
    "    partial_train_targets = np.concatenate([train_targets[:i * num_val_samples],\n",
    "                                            train_targets[(i + 1) * num_val_samples:]],\n",
    "                                            axis = 0)\n",
    "    \n",
    "    # build model\n",
    "    model = build_model()\n",
    "    \n",
    "    # fit model\n",
    "    model.fit(partial_train_data,\n",
    "             partial_train_targets,\n",
    "             epochs = num_epochs,\n",
    "             batch_size = 1,\n",
    "             verbose = 0)\n",
    "    \n",
    "    # evaluate model on validation data\n",
    "    val_mse, val_mae = model.evaluate(val_data, val_targets, verbose = 0)\n",
    "    all_scores.append(val_mae)"
   ]
  },
  {
   "cell_type": "code",
   "execution_count": 53,
   "metadata": {},
   "outputs": [
    {
     "name": "stdout",
     "output_type": "stream",
     "text": [
      "[1.904146671295166, 2.663848876953125, 2.77786922454834, 2.311192274093628]\n",
      "2.4142642617225647\n"
     ]
    }
   ],
   "source": [
    "print(all_scores)\n",
    "\n",
    "print(np.mean(all_scores))"
   ]
  },
  {
   "cell_type": "code",
   "execution_count": 59,
   "metadata": {},
   "outputs": [
    {
     "name": "stdout",
     "output_type": "stream",
     "text": [
      "Processing fold # 0\n",
      "Processing fold # 1\n",
      "Processing fold # 2\n",
      "Processing fold # 3\n"
     ]
    }
   ],
   "source": [
    "num_epochs = 500\n",
    "all_mae_histories = []\n",
    "\n",
    "for i in range(k):\n",
    "    print('Processing fold #', i)\n",
    "    val_data = train_data[i * num_val_samples: (i + 1) * num_val_samples]\n",
    "    val_targets = train_targets[i * num_val_samples: (i + 1) * num_val_samples]\n",
    "    \n",
    "    partial_train_data = np.concatenate([train_data[:i * num_val_samples],\n",
    "                                        train_data[(i + 1) * num_val_samples:]],\n",
    "                                        axis = 0)\n",
    "    partial_train_targets = np.concatenate([train_targets[:i * num_val_samples],\n",
    "                                            train_targets[(i + 1) * num_val_samples:]],\n",
    "                                            axis = 0)\n",
    "    \n",
    "    # build model\n",
    "    model = build_model()\n",
    "    \n",
    "    # fit model\n",
    "    history = model.fit(partial_train_data,\n",
    "                        partial_train_targets,\n",
    "                        epochs = num_epochs,\n",
    "                        batch_size = 1,\n",
    "                        validation_data = (val_data, val_targets),\n",
    "                        verbose = 0)\n",
    "    \n",
    "    # evaluate model on validation data\n",
    "    mae_history = history.history['val_mae']\n",
    "    all_mae_histories.append(mae_history)"
   ]
  },
  {
   "cell_type": "code",
   "execution_count": 61,
   "metadata": {},
   "outputs": [],
   "source": [
    "# building history of successive mean k-fold validation scores\n",
    "average_mae_history = [np.mean([x[i] for x in all_mae_histories]) for i in range(num_epochs)]"
   ]
  },
  {
   "cell_type": "code",
   "execution_count": 63,
   "metadata": {},
   "outputs": [
    {
     "data": {
      "image/png": "[encoded data removed]",
      "text/plain": [
       "<Figure size 432x288 with 1 Axes>"
      ]
     },
     "metadata": {
      "needs_background": "light"
     },
     "output_type": "display_data"
    }
   ],
   "source": [
    "# visualizing validation scores\n",
    "plt.plot(range(1, len(average_mae_history) + 1), average_mae_history)\n",
    "plt.xlabel('Epochs')\n",
    "plt.ylabel('Validation MAE')\n",
    "\n",
    "plt.show()"
   ]
  },
  {
   "cell_type": "code",
   "execution_count": 64,
   "metadata": {},
   "outputs": [],
   "source": [
    "# visualizing without first 10 points\n",
    "def smooth_curve(points, factor = 0.9):\n",
    "    smoothed_points = []\n",
    "    for point in points:\n",
    "        if smoothed_points:\n",
    "            previous = smoothed_points[-1]\n",
    "            smoothed_points.append(previous * factor + point * (i - factor))\n",
    "        else:\n",
    "            smoothed_points.append(point)\n",
    "    return smoothed_points"
   ]
  },
  {
   "cell_type": "code",
   "execution_count": 65,
   "metadata": {},
   "outputs": [],
   "source": [
    "# apply smoothing function\n",
    "smooth_mae_history = smooth_curve(average_mae_history[10:])"
   ]
  },
  {
   "cell_type": "code",
   "execution_count": 66,
   "metadata": {},
   "outputs": [
    {
     "data": {
      "image/png": "[encoded data removed]",
      "text/plain": [
       "<Figure size 432x288 with 1 Axes>"
      ]
     },
     "metadata": {
      "needs_background": "light"
     },
     "output_type": "display_data"
    }
   ],
   "source": [
    "# visualize smoothed curve\n",
    "plt.plot(range(1, len(smooth_mae_history) + 1), smooth_mae_history)\n",
    "plt.xlabel('Epochs')\n",
    "plt.ylabel('Validation MAE')\n",
    "\n",
    "plt.show()"
   ]
  },
  {
   "cell_type": "code",
   "execution_count": 67,
   "metadata": {},
   "outputs": [
    {
     "name": "stdout",
     "output_type": "stream",
     "text": [
      "4/4 [==============================] - 0s 1ms/step - loss: 18.4250 - mae: 3.0353\n",
      "3.0353307723999023\n"
     ]
    }
   ],
   "source": [
    "# evaluate the model\n",
    "test_mse_score, test_mae_score = model.evaluate(test_data, test_targets)\n",
    "\n",
    "print(test_mae_score)"
   ]
  },
  {
   "cell_type": "code",
   "execution_count": null,
   "metadata": {},
   "outputs": [],
   "source": []
  }
 ],
 "metadata": {
  "kernelspec": {
   "display_name": "Python 3",
   "language": "python",
   "name": "python3"
  },
  "language_info": {
   "codemirror_mode": {
    "name": "ipython",
    "version": 3
   },
   "file_extension": ".py",
   "mimetype": "text/x-python",
   "name": "python",
   "nbconvert_exporter": "python",
   "pygments_lexer": "ipython3",
   "version": "3.8.3"
  }
 },
 "nbformat": 4,
 "nbformat_minor": 4
}
