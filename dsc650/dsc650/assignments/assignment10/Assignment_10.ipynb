{
 "cells": [
  {
   "cell_type": "markdown",
   "metadata": {},
   "source": [
    "# Assignment 10\n",
    "\n",
    "## Assignment 10.1\n",
    "\n",
    "In the first part of the assignment, you will implement basic text-preprocessing functions in Python. These functions do not need to scale to large text documents and will only need to handle small inputs.\n",
    "\n",
    "### Assignment 10.1.a\n",
    "\n",
    "Create a tokenize function that splits a sentence into words. Ensure that your tokenizer removes basic punctuation."
   ]
  },
  {
   "cell_type": "code",
   "execution_count": 1,
   "metadata": {},
   "outputs": [],
   "source": [
    "# load required libraries\n",
    "import re\n",
    "import numpy as np"
   ]
  },
  {
   "cell_type": "code",
   "execution_count": 2,
   "metadata": {},
   "outputs": [],
   "source": [
    "def tokenize(sentence):\n",
    "    tokens = []\n",
    "    # tokenize the sentence\n",
    "    \n",
    "    # make all words lowercase\n",
    "    sentence = str.lower(sentence)\n",
    "    \n",
    "    # remove punctuation\n",
    "    sentence = re.sub(r'[^\\w\\s]','',sentence, re.UNICODE) \n",
    "    \n",
    "    # split unpunctuated sentance and append to tokens\n",
    "    for x in str.split(sentence):\n",
    "        tokens.append(x)\n",
    "    return tokens"
   ]
  },
  {
   "cell_type": "markdown",
   "metadata": {},
   "source": [
    "### Assignment 10.1.b\n",
    "\n",
    "Implement an `ngram` function that splits tokens into N-grams. "
   ]
  },
  {
   "cell_type": "code",
   "execution_count": 3,
   "metadata": {},
   "outputs": [],
   "source": [
    "def ngram(tokens, n):\n",
    "    ngrams = []\n",
    "    # Create ngrams\n",
    "    \n",
    "    ngram = zip(*[tokens[i:] for i in range(n)])\n",
    "    \n",
    "    for x in ngram:\n",
    "        ngrams.append(\" \".join(x))\n",
    "    \n",
    "    return ngrams"
   ]
  },
  {
   "cell_type": "markdown",
   "metadata": {},
   "source": [
    "### Assignment 10.1.c\n",
    "\n",
    "Implement an one_hot_encode function to create a vector from a numerical vector from a list of tokens."
   ]
  },
  {
   "cell_type": "code",
   "execution_count": 4,
   "metadata": {},
   "outputs": [],
   "source": [
    "def one_hot_encode(tokens, num_words):\n",
    "    token_index = {}\n",
    "    results = ''\n",
    "    \n",
    "    for word in tokens:\n",
    "        if word not in token_index:\n",
    "            token_index[word] = len(token_index) + 1\n",
    "            \n",
    "    results = np.zeros(shape = (len(tokens), num_words, max(token_index.values()) + 1))\n",
    "    \n",
    "    for i, token in enumerate(tokens):\n",
    "        for j, word in list(enumerate(tokens))[:num_words]:\n",
    "            index = token_index.get(word)\n",
    "            results[i, j, index] = 1\n",
    "    \n",
    "    return results"
   ]
  },
  {
   "cell_type": "markdown",
   "metadata": {},
   "source": [
    "## 10.2\n",
    "\n",
    "Using listings 6.16, 6.17, and 6.18 in Deep Learning with Python as a guide, train a sequential model with embeddings on the IMDB data found in data/external/imdb/. Produce the model performance metrics and training and validation accuracy curves within the Jupyter notebook."
   ]
  },
  {
   "cell_type": "code",
   "execution_count": 5,
   "metadata": {},
   "outputs": [],
   "source": [
    "# load required packages\n",
    "import os\n",
    "from keras.preprocessing.text import Tokenizer\n",
    "from keras.preprocessing.sequence import pad_sequences\n",
    "from keras.models import Sequential\n",
    "from keras.layers import Embedding, Flatten, Dense\n",
    "import matplotlib.pyplot as plt"
   ]
  },
  {
   "cell_type": "code",
   "execution_count": 6,
   "metadata": {},
   "outputs": [],
   "source": [
    "imdb_dir = '/Users/bretyoung/Sites/dsc650/data/external/imdb/aclImdb'\n",
    "train_dir = os.path.join(imdb_dir, 'train')\n",
    "\n",
    "# read training data files and create list oof text and labels\n",
    "\n",
    "labels = []\n",
    "texts = []\n",
    "\n",
    "for label_type in ['neg', 'pos']:\n",
    "    dir_name = os.path.join(train_dir, label_type)\n",
    "    for fname in os.listdir(dir_name):\n",
    "        if fname[-4:] == '.txt':\n",
    "            f = open(os.path.join(dir_name, fname))\n",
    "            texts.append(f.read())\n",
    "            f.close()\n",
    "            if label_type == 'neg':\n",
    "                labels.append(0)\n",
    "            else:\n",
    "                labels.append(1)"
   ]
  },
  {
   "cell_type": "code",
   "execution_count": 7,
   "metadata": {},
   "outputs": [
    {
     "name": "stdout",
     "output_type": "stream",
     "text": [
      "Found 88582 unique tokens\n",
      "Shape of data tensor:  (25000, 100)\n",
      "Shape of labels tensor:  (25000,)\n"
     ]
    }
   ],
   "source": [
    "# tokenize the raw data\n",
    "\n",
    "maxlen = 100\n",
    "training_samples = 200\n",
    "validation_samples = 10000\n",
    "max_words = 10000\n",
    "\n",
    "tokenizer = Tokenizer(num_words = max_words)\n",
    "tokenizer.fit_on_texts(texts)\n",
    "sequences = tokenizer.texts_to_sequences(texts)\n",
    "\n",
    "word_index = tokenizer.word_index\n",
    "print('Found {} unique tokens'.format(len(word_index)))\n",
    "\n",
    "data = pad_sequences(sequences, maxlen = maxlen)\n",
    "\n",
    "labels = np.asarray(labels)\n",
    "print('Shape of data tensor: ', data.shape)\n",
    "print('Shape of labels tensor: ', labels.shape)\n",
    "\n",
    "# assign random order to data\n",
    "indices = np.arange(data.shape[0])\n",
    "np.random.shuffle(indices)\n",
    "data = data[indices]\n",
    "labels = labels[indices]\n",
    "\n",
    "# Split data into training and validation sets\n",
    "x_train = data[:training_samples]\n",
    "y_train = labels[:training_samples]\n",
    "x_val = data[training_samples:training_samples + validation_samples]\n",
    "y_val = labels[training_samples:training_samples + validation_samples]"
   ]
  },
  {
   "cell_type": "code",
   "execution_count": 8,
   "metadata": {},
   "outputs": [],
   "source": [
    "# load GloVe word-embeddings from file\n",
    "\n",
    "glove_dir = '/Users/bretyoung/Sites/dsc650/data/external/imdb/aclImdb'\n",
    "\n",
    "embeddings_index = {}\n",
    "f = open(os.path.join(glove_dir, 'glove.6B.100d.txt'))\n",
    "for line in f:\n",
    "    values = line.split()\n",
    "    word = values[0]\n",
    "    coefs = np.asarray(values[1:], dtype = 'float32')\n",
    "    embeddings_index[word] = coefs\n",
    "f.close()"
   ]
  },
  {
   "cell_type": "code",
   "execution_count": 9,
   "metadata": {},
   "outputs": [],
   "source": [
    "# Creating GloVe word-embedding matrix\n",
    "\n",
    "embedding_dim = 100\n",
    "\n",
    "embedding_matrix = np.zeros((max_words, embedding_dim))\n",
    "for word, i in word_index.items():\n",
    "    if i < max_words:\n",
    "        embedding_vector = embeddings_index.get(word)\n",
    "        if embedding_vector is not None:\n",
    "            embedding_matrix[i] = embedding_vector"
   ]
  },
  {
   "cell_type": "code",
   "execution_count": 10,
   "metadata": {},
   "outputs": [
    {
     "name": "stdout",
     "output_type": "stream",
     "text": [
      "Model: \"sequential\"\n",
      "_________________________________________________________________\n",
      "Layer (type)                 Output Shape              Param #   \n",
      "=================================================================\n",
      "embedding (Embedding)        (None, 100, 100)          1000000   \n",
      "_________________________________________________________________\n",
      "flatten (Flatten)            (None, 10000)             0         \n",
      "_________________________________________________________________\n",
      "dense (Dense)                (None, 32)                320032    \n",
      "_________________________________________________________________\n",
      "dense_1 (Dense)              (None, 1)                 33        \n",
      "=================================================================\n",
      "Total params: 1,320,065\n",
      "Trainable params: 1,320,065\n",
      "Non-trainable params: 0\n",
      "_________________________________________________________________\n"
     ]
    }
   ],
   "source": [
    "# define the model\n",
    "\n",
    "model = Sequential()\n",
    "model.add(Embedding(max_words, embedding_dim, input_length = maxlen))\n",
    "model.add(Flatten())\n",
    "model.add(Dense(32, activation = 'relu'))\n",
    "model.add(Dense(1, activation = 'sigmoid'))\n",
    "model.summary()"
   ]
  },
  {
   "cell_type": "code",
   "execution_count": 11,
   "metadata": {},
   "outputs": [],
   "source": [
    "# load pretrained word embeddings int Embedding layer\n",
    "model.layers[0].set_weights([embedding_matrix])\n",
    "model.layers[0].trainable = False"
   ]
  },
  {
   "cell_type": "code",
   "execution_count": 12,
   "metadata": {},
   "outputs": [
    {
     "name": "stdout",
     "output_type": "stream",
     "text": [
      "Epoch 1/10\n",
      "7/7 [==============================] - 1s 105ms/step - loss: 2.7014 - acc: 0.4800 - val_loss: 0.8071 - val_acc: 0.4971\n",
      "Epoch 2/10\n",
      "7/7 [==============================] - 0s 63ms/step - loss: 0.4797 - acc: 0.7550 - val_loss: 1.6090 - val_acc: 0.4940\n",
      "Epoch 3/10\n",
      "7/7 [==============================] - 0s 71ms/step - loss: 0.5243 - acc: 0.7600 - val_loss: 1.3201 - val_acc: 0.5060\n",
      "Epoch 4/10\n",
      "7/7 [==============================] - 0s 62ms/step - loss: 0.3482 - acc: 0.8250 - val_loss: 0.7523 - val_acc: 0.5313\n",
      "Epoch 5/10\n",
      "7/7 [==============================] - 0s 59ms/step - loss: 0.1764 - acc: 0.9850 - val_loss: 1.7046 - val_acc: 0.4946\n",
      "Epoch 6/10\n",
      "7/7 [==============================] - 0s 60ms/step - loss: 0.1726 - acc: 0.9600 - val_loss: 1.0000 - val_acc: 0.5058\n",
      "Epoch 7/10\n",
      "7/7 [==============================] - 0s 63ms/step - loss: 0.1078 - acc: 0.9800 - val_loss: 0.7980 - val_acc: 0.5568\n",
      "Epoch 8/10\n",
      "7/7 [==============================] - 1s 84ms/step - loss: 0.0386 - acc: 1.0000 - val_loss: 1.0121 - val_acc: 0.5391\n",
      "Epoch 9/10\n",
      "7/7 [==============================] - 1s 88ms/step - loss: 0.3264 - acc: 0.8800 - val_loss: 0.7415 - val_acc: 0.5750\n",
      "Epoch 10/10\n",
      "7/7 [==============================] - 1s 167ms/step - loss: 0.0195 - acc: 1.0000 - val_loss: 0.7978 - val_acc: 0.5805\n"
     ]
    }
   ],
   "source": [
    "# Complie the model\n",
    "\n",
    "model.compile(optimizer = 'rmsprop',\n",
    "              loss = 'binary_crossentropy',\n",
    "              metrics = ['acc'])\n",
    "\n",
    "# Fit the model\n",
    "history = model.fit(x_train,\n",
    "                   y_train,\n",
    "                   epochs = 10,\n",
    "                   batch_size = 32,\n",
    "                   validation_data = (x_val, y_val))\n",
    "\n",
    "# Save the model\n",
    "model.save('pre_trained_glove_model.h5')"
   ]
  },
  {
   "cell_type": "code",
   "execution_count": 13,
   "metadata": {},
   "outputs": [
    {
     "data": {
      "image/png": "[encoded data removed]",
      "text/plain": [
       "<Figure size 432x288 with 1 Axes>"
      ]
     },
     "metadata": {
      "needs_background": "light"
     },
     "output_type": "display_data"
    },
    {
     "data": {
      "image/png": "[encoded data removed]",
      "text/plain": [
       "<Figure size 432x288 with 1 Axes>"
      ]
     },
     "metadata": {
      "needs_background": "light"
     },
     "output_type": "display_data"
    }
   ],
   "source": [
    "# Plot Validation Loss and Accuracy\n",
    "\n",
    "acc = history.history['acc']\n",
    "val_acc = history.history['val_acc']\n",
    "loss = history.history['loss']\n",
    "val_loss = history.history['val_loss']\n",
    "\n",
    "epochs = range(1, len(acc) + 1)\n",
    "\n",
    "plt.plot(epochs, loss, 'bo', label = 'Training Loss')\n",
    "plt.plot(epochs, val_loss, 'b', label = 'Validation Loss')\n",
    "plt.title('Trainin and Validation Loss')\n",
    "plt.legend()\n",
    "\n",
    "plt.figure()\n",
    "\n",
    "plt.plot(epochs, acc, 'bo', label = 'Training Accuracy')\n",
    "plt.plot(epochs, val_acc, 'b', label = 'Validation Accuracy')\n",
    "plt.title('Training and Validation Accuracy')\n",
    "plt.legend()\n",
    "\n",
    "plt.show()"
   ]
  },
  {
   "cell_type": "code",
   "execution_count": 14,
   "metadata": {},
   "outputs": [],
   "source": [
    "# Prepare test data\n",
    "\n",
    "test_dir = os.path.join(imdb_dir, 'test')\n",
    "\n",
    "labels = []\n",
    "texts = []\n",
    "\n",
    "for label_type in ['neg', 'pos']:\n",
    "    dir_name = os.path.join(test_dir, label_type)\n",
    "    for fname in sorted(os.listdir(dir_name)):\n",
    "        if fname[-4:] == '.txt':\n",
    "            f = open(os.path.join(dir_name, fname))\n",
    "            texts.append(f.read())\n",
    "            f.close\n",
    "            if label_type == 'neg':\n",
    "                labels.append(0)\n",
    "            else:\n",
    "                labels.append(1)\n",
    "\n",
    "sequences = tokenizer.texts_to_sequences(texts)\n",
    "x_test = pad_sequences(sequences, maxlen = maxlen)\n",
    "y_test = np.asarray(labels)"
   ]
  },
  {
   "cell_type": "code",
   "execution_count": 15,
   "metadata": {},
   "outputs": [
    {
     "name": "stdout",
     "output_type": "stream",
     "text": [
      "782/782 [==============================] - 2s 3ms/step - loss: 0.8048 - acc: 0.5700\n"
     ]
    },
    {
     "data": {
      "text/plain": [
       "[0.8047671318054199, 0.5700399875640869]"
      ]
     },
     "execution_count": 15,
     "metadata": {},
     "output_type": "execute_result"
    }
   ],
   "source": [
    "# evaluate the model on test data\n",
    "model.load_weights('pre_trained_glove_model.h5')\n",
    "model.evaluate(x_test, y_test)"
   ]
  },
  {
   "cell_type": "markdown",
   "metadata": {},
   "source": [
    "## 10.3\n",
    "\n",
    "Using listing 6.27 in Deep Learning with Python as a guide, fit the same data with an LSTM layer. Produce the model performance metrics and training and validation accuracy curves within the Jupyter notebook."
   ]
  },
  {
   "cell_type": "code",
   "execution_count": 16,
   "metadata": {},
   "outputs": [],
   "source": [
    "# load additional required packages\n",
    "\n",
    "from keras.layers import LSTM\n",
    "from keras.preprocessing import sequence"
   ]
  },
  {
   "cell_type": "code",
   "execution_count": 17,
   "metadata": {},
   "outputs": [],
   "source": [
    "max_features = 10000\n",
    "maxlen = 500\n",
    "batch_size = 32"
   ]
  },
  {
   "cell_type": "code",
   "execution_count": 18,
   "metadata": {},
   "outputs": [
    {
     "name": "stdout",
     "output_type": "stream",
     "text": [
      "Epoch 1/10\n",
      "2/2 [==============================] - 2s 807ms/step - loss: 0.6932 - acc: 0.4850 - val_loss: 0.6926 - val_acc: 0.5266\n",
      "Epoch 2/10\n",
      "2/2 [==============================] - 1s 534ms/step - loss: 0.6875 - acc: 0.7600 - val_loss: 0.6921 - val_acc: 0.5101\n",
      "Epoch 3/10\n",
      "2/2 [==============================] - 1s 644ms/step - loss: 0.6818 - acc: 0.6500 - val_loss: 0.6912 - val_acc: 0.5287\n",
      "Epoch 4/10\n",
      "2/2 [==============================] - 2s 805ms/step - loss: 0.6710 - acc: 0.8850 - val_loss: 0.6897 - val_acc: 0.5247\n",
      "Epoch 5/10\n",
      "2/2 [==============================] - 2s 808ms/step - loss: 0.6558 - acc: 0.7900 - val_loss: 0.6864 - val_acc: 0.5592\n",
      "Epoch 6/10\n",
      "2/2 [==============================] - 2s 907ms/step - loss: 0.6252 - acc: 0.9250 - val_loss: 0.6817 - val_acc: 0.5096\n",
      "Epoch 7/10\n",
      "2/2 [==============================] - 2s 830ms/step - loss: 0.5396 - acc: 0.8100 - val_loss: 0.6696 - val_acc: 0.6460\n",
      "Epoch 8/10\n",
      "2/2 [==============================] - 1s 706ms/step - loss: 0.5001 - acc: 0.9700 - val_loss: 0.6426 - val_acc: 0.6439\n",
      "Epoch 9/10\n",
      "2/2 [==============================] - 2s 758ms/step - loss: 0.4508 - acc: 0.9300 - val_loss: 0.6488 - val_acc: 0.6684\n",
      "Epoch 10/10\n",
      "2/2 [==============================] - 2s 840ms/step - loss: 0.3866 - acc: 0.9900 - val_loss: 0.6600 - val_acc: 0.6623\n"
     ]
    }
   ],
   "source": [
    "# Define the model\n",
    "\n",
    "model_lstm = Sequential()\n",
    "model_lstm.add(Embedding(max_features, 32))\n",
    "model_lstm.add(LSTM(32))\n",
    "model_lstm.add(Dense(1, activation = 'sigmoid'))\n",
    "\n",
    "# Compile the model\n",
    "model_lstm.compile(optimizer = 'rmsprop',\n",
    "                  loss = 'binary_crossentropy',\n",
    "                  metrics = ['acc'])\n",
    "\n",
    "# fit the model\n",
    "history = model_lstm.fit(x_train,\n",
    "              y_train,\n",
    "              epochs = 10,\n",
    "              batch_size = 128,\n",
    "              validation_data = (x_val, y_val))"
   ]
  },
  {
   "cell_type": "code",
   "execution_count": 19,
   "metadata": {},
   "outputs": [
    {
     "data": {
      "image/png": "[encoded data removed]",
      "text/plain": [
       "<Figure size 432x288 with 1 Axes>"
      ]
     },
     "metadata": {
      "needs_background": "light"
     },
     "output_type": "display_data"
    },
    {
     "data": {
      "image/png": "[encoded data removed]",
      "text/plain": [
       "<Figure size 432x288 with 1 Axes>"
      ]
     },
     "metadata": {
      "needs_background": "light"
     },
     "output_type": "display_data"
    }
   ],
   "source": [
    "# Plot Validation Loss and Accuracy\n",
    "\n",
    "acc = history.history['acc']\n",
    "val_acc = history.history['val_acc']\n",
    "loss = history.history['loss']\n",
    "val_loss = history.history['val_loss']\n",
    "\n",
    "epochs = range(1, len(acc) + 1)\n",
    "\n",
    "plt.plot(epochs, loss, 'bo', label = 'Training Loss')\n",
    "plt.plot(epochs, val_loss, 'b', label = 'Validation Loss')\n",
    "plt.title('Trainin and Validation Loss')\n",
    "plt.legend()\n",
    "\n",
    "plt.figure()\n",
    "\n",
    "plt.plot(epochs, acc, 'bo', label = 'Training Accuracy')\n",
    "plt.plot(epochs, val_acc, 'b', label = 'Validation Accuracy')\n",
    "plt.title('Training and Validation Accuracy')\n",
    "plt.legend()\n",
    "\n",
    "plt.show()"
   ]
  },
  {
   "cell_type": "code",
   "execution_count": 21,
   "metadata": {},
   "outputs": [
    {
     "name": "stdout",
     "output_type": "stream",
     "text": [
      "782/782 [==============================] - 7s 9ms/step - loss: 0.6679 - acc: 0.6630\n"
     ]
    },
    {
     "data": {
      "text/plain": [
       "[0.667850911617279, 0.6630399823188782]"
      ]
     },
     "execution_count": 21,
     "metadata": {},
     "output_type": "execute_result"
    }
   ],
   "source": [
    "model_lstm.evaluate(x_test, y_test)"
   ]
  },
  {
   "cell_type": "markdown",
   "metadata": {},
   "source": [
    "## 10.4\n",
    "\n",
    "Using listing 6.46 in Deep Learning with Python as a guide, fit the same data with a simple 1D convnet. Produce the model performance metrics and training and validation accuracy curves within the Jupyter notebook."
   ]
  },
  {
   "cell_type": "code",
   "execution_count": 23,
   "metadata": {},
   "outputs": [],
   "source": [
    "# load required packages\n",
    "from keras.optimizers import RMSprop\n",
    "from keras import layers"
   ]
  },
  {
   "cell_type": "code",
   "execution_count": 26,
   "metadata": {},
   "outputs": [
    {
     "name": "stdout",
     "output_type": "stream",
     "text": [
      "Model: \"sequential_3\"\n",
      "_________________________________________________________________\n",
      "Layer (type)                 Output Shape              Param #   \n",
      "=================================================================\n",
      "embedding_3 (Embedding)      (None, 500, 128)          1280000   \n",
      "_________________________________________________________________\n",
      "conv1d_2 (Conv1D)            (None, 494, 32)           28704     \n",
      "_________________________________________________________________\n",
      "max_pooling1d_1 (MaxPooling1 (None, 98, 32)            0         \n",
      "_________________________________________________________________\n",
      "conv1d_3 (Conv1D)            (None, 92, 32)            7200      \n",
      "_________________________________________________________________\n",
      "global_max_pooling1d_1 (Glob (None, 32)                0         \n",
      "_________________________________________________________________\n",
      "dense_3 (Dense)              (None, 1)                 33        \n",
      "=================================================================\n",
      "Total params: 1,315,937\n",
      "Trainable params: 1,315,937\n",
      "Non-trainable params: 0\n",
      "_________________________________________________________________\n"
     ]
    }
   ],
   "source": [
    "# Define the model\n",
    "\n",
    "max_features = 10000\n",
    "max_len = 500\n",
    "\n",
    "model_1D = Sequential()\n",
    "model_1D.add(layers.Embedding(max_features, 128, input_length = max_len))\n",
    "model_1D.add(layers.Conv1D(32, 7, activation = 'relu'))\n",
    "model_1D.add(layers.MaxPooling1D(5))\n",
    "model_1D.add(layers.Conv1D(32, 7, activation = 'relu'))\n",
    "model_1D.add(layers.GlobalMaxPooling1D())\n",
    "model_1D.add(layers.Dense(1))\n",
    "\n",
    "model_1D.summary()"
   ]
  },
  {
   "cell_type": "code",
   "execution_count": 29,
   "metadata": {},
   "outputs": [
    {
     "name": "stdout",
     "output_type": "stream",
     "text": [
      "Epoch 1/10\n",
      "2/2 [==============================] - 0s 149ms/step - loss: 0.0121 - acc: 1.0000 - val_loss: 0.7867 - val_acc: 0.5787\n",
      "Epoch 2/10\n",
      "2/2 [==============================] - 0s 156ms/step - loss: 0.0089 - acc: 1.0000 - val_loss: 0.7880 - val_acc: 0.5873\n",
      "Epoch 3/10\n",
      "2/2 [==============================] - 0s 149ms/step - loss: 0.0079 - acc: 1.0000 - val_loss: 0.7985 - val_acc: 0.5837\n",
      "Epoch 4/10\n",
      "2/2 [==============================] - 0s 150ms/step - loss: 0.0066 - acc: 1.0000 - val_loss: 0.8048 - val_acc: 0.5879\n",
      "Epoch 5/10\n",
      "2/2 [==============================] - 1s 279ms/step - loss: 0.0057 - acc: 1.0000 - val_loss: 0.8191 - val_acc: 0.5817\n",
      "Epoch 6/10\n",
      "2/2 [==============================] - 0s 190ms/step - loss: 0.0051 - acc: 1.0000 - val_loss: 0.8242 - val_acc: 0.5814\n",
      "Epoch 7/10\n",
      "2/2 [==============================] - 1s 305ms/step - loss: 0.0045 - acc: 1.0000 - val_loss: 0.8295 - val_acc: 0.5803\n",
      "Epoch 8/10\n",
      "2/2 [==============================] - 0s 194ms/step - loss: 0.0041 - acc: 1.0000 - val_loss: 0.8518 - val_acc: 0.5787\n",
      "Epoch 9/10\n",
      "2/2 [==============================] - 0s 140ms/step - loss: 0.0037 - acc: 1.0000 - val_loss: 0.8404 - val_acc: 0.5830\n",
      "Epoch 10/10\n",
      "2/2 [==============================] - 0s 162ms/step - loss: 0.0032 - acc: 1.0000 - val_loss: 0.8541 - val_acc: 0.5795\n"
     ]
    }
   ],
   "source": [
    "# Compile the model\n",
    "model_1D.compile(optimizer = RMSprop(lr = 1e-4),\n",
    "                loss = 'binary_crossentropy',\n",
    "                metrics = ['acc'])\n",
    "\n",
    "# fit model\n",
    "history = model.fit(x_train,\n",
    "                    y_train,\n",
    "                    epochs = 10,\n",
    "                    batch_size = 128,\n",
    "                    validation_data = (x_val, y_val))"
   ]
  },
  {
   "cell_type": "code",
   "execution_count": 30,
   "metadata": {},
   "outputs": [
    {
     "data": {
      "image/png": "[encoded data removed]",
      "text/plain": [
       "<Figure size 432x288 with 1 Axes>"
      ]
     },
     "metadata": {
      "needs_background": "light"
     },
     "output_type": "display_data"
    },
    {
     "data": {
      "image/png": "[encoded data removed]",
      "text/plain": [
       "<Figure size 432x288 with 1 Axes>"
      ]
     },
     "metadata": {
      "needs_background": "light"
     },
     "output_type": "display_data"
    }
   ],
   "source": [
    "# Plot Validation Loss and Accuracy\n",
    "\n",
    "acc = history.history['acc']\n",
    "val_acc = history.history['val_acc']\n",
    "loss = history.history['loss']\n",
    "val_loss = history.history['val_loss']\n",
    "\n",
    "epochs = range(1, len(acc) + 1)\n",
    "\n",
    "plt.plot(epochs, loss, 'bo', label = 'Training Loss')\n",
    "plt.plot(epochs, val_loss, 'b', label = 'Validation Loss')\n",
    "plt.title('Trainin and Validation Loss')\n",
    "plt.legend()\n",
    "\n",
    "plt.figure()\n",
    "\n",
    "plt.plot(epochs, acc, 'bo', label = 'Training Accuracy')\n",
    "plt.plot(epochs, val_acc, 'b', label = 'Validation Accuracy')\n",
    "plt.title('Training and Validation Accuracy')\n",
    "plt.legend()\n",
    "\n",
    "plt.show()"
   ]
  },
  {
   "cell_type": "code",
   "execution_count": 31,
   "metadata": {},
   "outputs": [
    {
     "name": "stdout",
     "output_type": "stream",
     "text": [
      "782/782 [==============================] - 1s 2ms/step - loss: 0.8685 - acc: 0.5751\n"
     ]
    },
    {
     "data": {
      "text/plain": [
       "[0.8684773445129395, 0.5751199722290039]"
      ]
     },
     "execution_count": 31,
     "metadata": {},
     "output_type": "execute_result"
    }
   ],
   "source": [
    "# Evaluate model\n",
    "model.evaluate(x_test, y_test)"
   ]
  },
  {
   "cell_type": "code",
   "execution_count": null,
   "metadata": {},
   "outputs": [],
   "source": []
  }
 ],
 "metadata": {
  "kernelspec": {
   "display_name": "Python 3",
   "language": "python",
   "name": "python3"
  },
  "language_info": {
   "codemirror_mode": {
    "name": "ipython",
    "version": 3
   },
   "file_extension": ".py",
   "mimetype": "text/x-python",
   "name": "python",
   "nbconvert_exporter": "python",
   "pygments_lexer": "ipython3",
   "version": "3.8.6"
  }
 },
 "nbformat": 4,
 "nbformat_minor": 4
}
